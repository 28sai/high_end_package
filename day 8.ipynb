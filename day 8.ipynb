{
 "cells": [
  {
   "cell_type": "code",
   "execution_count": 1,
   "id": "c09f2003",
   "metadata": {},
   "outputs": [
    {
     "name": "stdout",
     "output_type": "stream",
     "text": [
      "[11, 12, 22, 25, 34, 64, 90]\n"
     ]
    }
   ],
   "source": [
    "def bubble_sort(arr):\n",
    "    n = len(arr)\n",
    "    for i in range(n-1):\n",
    "        for j in range(0,n-i-1):\n",
    "            if arr[j]>arr[j+1]:\n",
    "                arr[j], arr[j + 1] = arr[j + 1], arr[j]\n",
    "\n",
    "numbers = [64, 34, 25, 12, 22, 11, 90]\n",
    "bubble_sort(numbers)\n",
    "print(numbers)\n",
    "\n"
   ]
  },
  {
   "cell_type": "code",
   "execution_count": 2,
   "id": "f7250c3e",
   "metadata": {},
   "outputs": [
    {
     "name": "stdout",
     "output_type": "stream",
     "text": [
      "14 8 2 19 69 1\n"
     ]
    },
    {
     "data": {
      "text/plain": [
       "[1, 2, 8, 14, 19, 69]"
      ]
     },
     "execution_count": 2,
     "metadata": {},
     "output_type": "execute_result"
    }
   ],
   "source": [
    "def insertion_sort(arr):\n",
    "    n=len(arr)\n",
    "    for i in range(1,n):\n",
    "        j=i\n",
    "        while j>0 and arr[j]<arr[j-1]:\n",
    "            arr[j],arr[j-1]=arr[j-1],arr[j]\n",
    "            j-=1\n",
    "    return arr\n",
    "\n",
    "arr=list(map(int,input().split()))\n",
    "insertion_sort(arr)"
   ]
  },
  {
   "cell_type": "code",
   "execution_count": 3,
   "id": "6d4102b1",
   "metadata": {},
   "outputs": [
    {
     "name": "stdout",
     "output_type": "stream",
     "text": [
      "14 8 2 19 69 1\n",
      "[1, 2, 8, 14, 19, 69]\n"
     ]
    }
   ],
   "source": [
    "nums=list(map(int,input().split()))\n",
    "x=[]\n",
    "while nums:\n",
    "    mn=min(nums)\n",
    "    x.append(mn)\n",
    "    nums.remove(mn)\n",
    "print(x)\n"
   ]
  },
  {
   "cell_type": "code",
   "execution_count": 4,
   "id": "ca9a502e",
   "metadata": {},
   "outputs": [
    {
     "name": "stdout",
     "output_type": "stream",
     "text": [
      "[11, 12, 22, 25, 34, 64, 90]\n"
     ]
    }
   ],
   "source": [
    "def selection_sort(arr):\n",
    "    n = len(arr)\n",
    "    for i in range(n):\n",
    "        min_idx = i\n",
    "        for j in range(i + 1, n):\n",
    "            if arr[j] < arr[min_idx]:\n",
    "                min_idx = j\n",
    "        arr[i], arr[min_idx] = arr[min_idx], arr[i]\n",
    "\n",
    "numbers = [64, 34, 25, 12, 22, 11, 90]\n",
    "selection_sort(numbers)\n",
    "print(numbers)\n",
    "\n"
   ]
  },
  {
   "cell_type": "raw",
   "id": "f9973743",
   "metadata": {},
   "source": [
    "The sorting algorithm is used for information searching and as Quicksort is the fastest algorithm so it is widely used as a better way of searching. It is used everywhere where a stable sort is not needed. Quicksort is a cache-friendly algorithm as it has a good locality of reference when used for arrays."
   ]
  },
  {
   "cell_type": "code",
   "execution_count": 5,
   "id": "d5ff88c8",
   "metadata": {},
   "outputs": [
    {
     "name": "stdout",
     "output_type": "stream",
     "text": [
      "14 8 2 19 69 1\n"
     ]
    },
    {
     "data": {
      "text/plain": [
       "[1, 2, 8, 14, 19, 69]"
      ]
     },
     "execution_count": 5,
     "metadata": {},
     "output_type": "execute_result"
    }
   ],
   "source": [
    "def quick_sort(arr):\n",
    "    if len(arr) <= 1:\n",
    "        return arr\n",
    "    else:\n",
    "        pivot=arr[0]\n",
    "        less=[i for i in arr[1:] if i<=pivot]\n",
    "        greater=[i for i in arr[1:] if x=i>pivot]\n",
    "        return quick_sort(less)+[pivot]+quick_sort(greater)\n",
    "arr=list(map(int,input().split()))\n",
    "quick_sort(arr)"
   ]
  },
  {
   "cell_type": "code",
   "execution_count": null,
   "id": "f004ecf8",
   "metadata": {},
   "outputs": [],
   "source": []
  },
  {
   "cell_type": "code",
   "execution_count": 17,
   "id": "11a831e0",
   "metadata": {},
   "outputs": [
    {
     "name": "stdin",
     "output_type": "stream",
     "text": [
      " 6\n",
      " 14 8 2 19 69 1\n"
     ]
    },
    {
     "name": "stdout",
     "output_type": "stream",
     "text": [
      "[1, 2, 8, 14, 19, 69]\n"
     ]
    }
   ],
   "source": [
    "def merge(arr):\n",
    "    if len(arr)<=1:\n",
    "        return 11\n",
    "    mid= len(arr)//2\n",
    "    l=arr[:mid]\n",
    "    r=arr[mid:]\n",
    "    merge(l)\n",
    "    merge(r)\n",
    "    i=j=k=0\n",
    "    while i<len(l) and j<len(r):\n",
    "        if l[i]<r[j]:\n",
    "            arr[k]=l[i]\n",
    "            i+=1\n",
    "        else:\n",
    "            arr[k]=r[j]\n",
    "            j+=1\n",
    "        k+=1\n",
    "    while i<len(l):\n",
    "        arr[k]=l[i]\n",
    "        i+=1\n",
    "        k+=1\n",
    "    while j<len(r):\n",
    "        arr[k]=r[j]\n",
    "        j+=1\n",
    "        k+=1\n",
    "n=int(input())\n",
    "arr=list(map(int,input().split()))\n",
    "merge(arr)\n",
    "print(arr)"
   ]
  },
  {
   "cell_type": "code",
   "execution_count": 26,
   "id": "4c54aa24",
   "metadata": {},
   "outputs": [],
   "source": [
    "from itertools import combinations\n",
    "ans=[s for i in range(1,len(arr)+1) for s in combinations(sorted(arr),i)]"
   ]
  },
  {
   "cell_type": "code",
   "execution_count": 28,
   "id": "9d2aa7ce",
   "metadata": {},
   "outputs": [
    {
     "name": "stdout",
     "output_type": "stream",
     "text": [
      "[1, 2, 8, 14, 19, 69]\n"
     ]
    }
   ],
   "source": [
    "a=[]\n",
    "for i in ans:\n",
    "    if len(i)==n:\n",
    "        a.extend(i)\n",
    "print(a)"
   ]
  },
  {
   "cell_type": "code",
   "execution_count": 40,
   "id": "c3615d71",
   "metadata": {},
   "outputs": [
    {
     "name": "stdout",
     "output_type": "stream",
     "text": [
      "14 8 2 19 69 1\n",
      "[1, 2, 8, 14, 19, 69]\n"
     ]
    }
   ],
   "source": [
    "def ms(arr):\n",
    "    if len(arr)<=1:\n",
    "        return arr\n",
    "    mid=len(arr)//2\n",
    "    l=arr[:mid]\n",
    "    r=arr[mid:]\n",
    "    l=ms(l)\n",
    "    r=ms(r)\n",
    "    return merge(l,r)\n",
    "def merge(l,r):\n",
    "    ans=[]\n",
    "    i=j=0\n",
    "    while i<len(l) and j<len(r):\n",
    "        if l[i]<r[j]:\n",
    "            ans.append(l[i])\n",
    "            i+=1\n",
    "        else:\n",
    "            ans.append(r[j])\n",
    "            j+=1\n",
    "    ans.extend(l[i:])\n",
    "    ans.extend(r[j:])\n",
    "    return ans\n",
    "arr=list(map(int,input().split()))\n",
    "x=ms(arr)\n",
    "print(x)\n"
   ]
  },
  {
   "cell_type": "code",
   "execution_count": 20,
   "id": "d3b77118",
   "metadata": {},
   "outputs": [
    {
     "name": "stdin",
     "output_type": "stream",
     "text": [
      " 9 4 8 7 5\n"
     ]
    },
    {
     "data": {
      "text/plain": [
       "(7, [4, 5, 7, 8, 9])"
      ]
     },
     "execution_count": 20,
     "metadata": {},
     "output_type": "execute_result"
    }
   ],
   "source": [
    "def inversion(arr):\n",
    "    c=0\n",
    "    for i in range(len(arr)):\n",
    "        for j in range(i+1,len(arr)):\n",
    "            if arr[i]>arr[j]:\n",
    "                c+=1\n",
    "                arr[i],arr[j]=arr[j],arr[i]\n",
    "    return c, arr\n",
    "arr=list(map(int,input().split()))\n",
    "inversion(arr)"
   ]
  },
  {
   "cell_type": "code",
   "execution_count": null,
   "id": "92ac3255",
   "metadata": {},
   "outputs": [],
   "source": []
  },
  {
   "cell_type": "code",
   "execution_count": null,
   "id": "f4264c6e",
   "metadata": {},
   "outputs": [],
   "source": []
  },
  {
   "cell_type": "code",
   "execution_count": null,
   "id": "66dccb59",
   "metadata": {},
   "outputs": [],
   "source": []
  },
  {
   "cell_type": "code",
   "execution_count": null,
   "id": "9ad5491b",
   "metadata": {},
   "outputs": [],
   "source": []
  }
 ],
 "metadata": {
  "kernelspec": {
   "display_name": "Python 3 (ipykernel)",
   "language": "python",
   "name": "python3"
  },
  "language_info": {
   "codemirror_mode": {
    "name": "ipython",
    "version": 3
   },
   "file_extension": ".py",
   "mimetype": "text/x-python",
   "name": "python",
   "nbconvert_exporter": "python",
   "pygments_lexer": "ipython3",
   "version": "3.11.1"
  }
 },
 "nbformat": 4,
 "nbformat_minor": 5
}
