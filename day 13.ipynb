{
 "cells": [
  {
   "cell_type": "code",
   "execution_count": 4,
   "id": "602497ea",
   "metadata": {},
   "outputs": [
    {
     "name": "stdout",
     "output_type": "stream",
     "text": [
      "5 4\n",
      "1 2 3 4 5\n",
      "2 3 4 5 1 "
     ]
    }
   ],
   "source": [
    "#rotate arr\n",
    "n,k=map(int,input().split())\n",
    "arr=list(map(int,input().split()))\n",
    "index=n-(k%n)\n",
    "for i in range(index,n):\n",
    "    print(arr[i],end=\" \")\n",
    "for i in range(0,index):\n",
    "    print(arr[i],end=\" \")\n"
   ]
  },
  {
   "cell_type": "code",
   "execution_count": 17,
   "id": "948bfaa4",
   "metadata": {},
   "outputs": [
    {
     "data": {
      "text/plain": [
       "3"
      ]
     },
     "execution_count": 17,
     "metadata": {},
     "output_type": "execute_result"
    }
   ],
   "source": [
    "def palin_substring(str):\n",
    "    #count no fo palindromic substring\n",
    "    x=\"\"\n",
    "    c=0\n",
    "    if str==str[::-1]:\n",
    "        c+=1\n",
    "    x+=str[0]\n",
    "    for i in range(1,len(str)):\n",
    "        x+=str[i]\n",
    "        if x==x[::-1]:\n",
    "            c+=1\n",
    "    return c\n",
    "str=\"madammadam\"\n",
    "palin_substring(str)"
   ]
  },
  {
   "cell_type": "code",
   "execution_count": null,
   "id": "21ae233b",
   "metadata": {},
   "outputs": [],
   "source": []
  },
  {
   "cell_type": "code",
   "execution_count": 12,
   "id": "18c4ffb9",
   "metadata": {},
   "outputs": [],
   "source": [
    "#count lonegst palindromic substring\n"
   ]
  },
  {
   "cell_type": "code",
   "execution_count": 28,
   "id": "9bb246e8",
   "metadata": {},
   "outputs": [
    {
     "name": "stdout",
     "output_type": "stream",
     "text": [
      "madammadam\n",
      "(3, {'m': 9, 'a': 8, 'd': 7})\n"
     ]
    }
   ],
   "source": [
    "def substr(s):\n",
    "    start=0\n",
    "    max_len=0\n",
    "    seen={}\n",
    "    for i,char in enumerate(s):\n",
    "        if char in seen and start<=seen[char]:\n",
    "            start=seen[char]+1\n",
    "        else:\n",
    "            max_len=max(max_len,i-start+1)\n",
    "        seen[char]=i\n",
    "    return max_len,seen\n",
    "s=input()\n",
    "l=substr(s)\n",
    "print(l)"
   ]
  },
  {
   "cell_type": "code",
   "execution_count": 42,
   "id": "ad2247a1",
   "metadata": {},
   "outputs": [
    {
     "name": "stdout",
     "output_type": "stream",
     "text": [
      "(19, ['m', 'madam', 'madammadam', 'a', 'ada', 'adammada', 'd', 'dammad', 'a', 'amma', 'm', 'mm', 'm', 'madam', 'a', 'ada', 'd', 'a', 'm'], 'a', 'madammadam')\n"
     ]
    }
   ],
   "source": [
    "#no of substings maxiimum substring and min substring\n",
    "def substri(s):\n",
    "    c=0\n",
    "    x=[]\n",
    "    y=[]\n",
    "    for i in range(len(s)):\n",
    "        for j in range(i,len(s)):\n",
    "            substring=s[i:j+1]\n",
    "            if substring==substring[::-1]:\n",
    "                x.append(substring)\n",
    "                c+=1\n",
    "                if len(substring)>len(y):\n",
    "                    y=substring\n",
    "    return c,x,min(x),y\n",
    "str=\"madammadam\"\n",
    "x=substri(str)\n",
    "print(x)"
   ]
  },
  {
   "cell_type": "code",
   "execution_count": 52,
   "id": "b3bdb708",
   "metadata": {},
   "outputs": [
    {
     "data": {
      "text/plain": [
       "11"
      ]
     },
     "execution_count": 52,
     "metadata": {},
     "output_type": "execute_result"
    }
   ],
   "source": [
    "def main():\n",
    "    s = \"madammadam\"\n",
    "    n = len(s)\n",
    "    dp = [[0 for _ in range(n)] for _ in range(n)]\n",
    "    count = 0\n",
    "\n",
    "    i, j = 0, 0\n",
    "    while j<n:\n",
    "        jflag=j\n",
    "        while jflag<n:\n",
    "            if i==jflag:\n",
    "                dp[i][jflag]=1\n",
    "                count+=1\n",
    "            elif abs(i-jflag)==1:\n",
    "                if s[i]==s[jflag]:\n",
    "                    dp[i][jflag]=1\n",
    "                    count+=1\n",
    "                else:\n",
    "                    dp[i][jflag]=0\n",
    "            else:\n",
    "                if s[i]==s[jflag]:\n",
    "                    if dp[i+1][jflag-1]==1:\n",
    "                        dp[i][jflag]=1\n",
    "                        count+=1\n",
    "                    else:\n",
    "                        dp[i][jflag]=0\n",
    "                else:\n",
    "                    dp[i][jflag]=0\n",
    "            i+=1\n",
    "            jflag+=1\n",
    "        j+=1\n",
    "        i=0\n",
    "    return count\n",
    "main()"
   ]
  },
  {
   "cell_type": "code",
   "execution_count": 53,
   "id": "ed16cf86",
   "metadata": {},
   "outputs": [
    {
     "name": "stdout",
     "output_type": "stream",
     "text": [
      "19\n"
     ]
    }
   ],
   "source": [
    "def count_palindromic_substrings(s):\n",
    "    n = len(s)\n",
    "    c = 0\n",
    "    dp = [[0] * n for _ in range(n)]\n",
    "\n",
    "    for i in range(n):\n",
    "        dp[i][i] = 1\n",
    "        c += 1  #c=10\n",
    "\n",
    "    for i in range(n - 1):\n",
    "        if s[i] == s[i + 1]:\n",
    "            dp[i][i + 1] = 1\n",
    "            c += 1\n",
    "\n",
    "    for length in range(3, n + 1):\n",
    "        for i in range(n - length + 1):\n",
    "            j = i + length - 1\n",
    "            if s[i] == s[j] and dp[i + 1][j - 1] == 1:\n",
    "                dp[i][j] = 1\n",
    "                c += 1\n",
    "\n",
    "    return c\n",
    "\n",
    "s = \"madammadam\"\n",
    "print(count_palindromic_substrings(s))\n"
   ]
  },
  {
   "cell_type": "code",
   "execution_count": null,
   "id": "524d3295",
   "metadata": {},
   "outputs": [],
   "source": []
  },
  {
   "cell_type": "code",
   "execution_count": 70,
   "id": "e9f640ec",
   "metadata": {},
   "outputs": [
    {
     "data": {
      "text/plain": [
       "4"
      ]
     },
     "execution_count": 70,
     "metadata": {},
     "output_type": "execute_result"
    }
   ],
   "source": [
    "def string2(s):\n",
    "    pos=0\n",
    "    if \"B\" in s or \"F\" in s:\n",
    "        for i in s:\n",
    "            if i==\"B\":\n",
    "                pos-=1\n",
    "            elif i==\"F\":\n",
    "                pos+=2\n",
    "    return pos\n",
    "s=\"BFFFBFBFFB\"\n",
    "string2(s)"
   ]
  },
  {
   "cell_type": "code",
   "execution_count": 74,
   "id": "fb6bfd08",
   "metadata": {},
   "outputs": [
    {
     "data": {
      "text/plain": [
       "9"
      ]
     },
     "execution_count": 74,
     "metadata": {},
     "output_type": "execute_result"
    }
   ],
   "source": [
    "def string3(s):\n",
    "    seen=[0 for i in range(1000)]\n",
    "    cp=0\n",
    "    seen[cp]=1\n",
    "    ans=1\n",
    "    for ch in s:\n",
    "        if ch==\"B\":\n",
    "            if cp-1>=0:\n",
    "                cp-=1\n",
    "        else:\n",
    "            cp+=2\n",
    "        if seen[cp]!=1:\n",
    "            ans+=1\n",
    "            seen[cp]=1\n",
    "    return ans\n",
    "s=\"BFFFBFBFFB\"\n",
    "string3(s)"
   ]
  },
  {
   "cell_type": "code",
   "execution_count": 8,
   "id": "e9d940b0",
   "metadata": {},
   "outputs": [
    {
     "name": "stdout",
     "output_type": "stream",
     "text": [
      "10\n",
      "8\n",
      "6\n",
      "4\n",
      "4\n",
      "6\n",
      "4\n",
      "4\n",
      "8\n",
      "6\n",
      "4\n",
      "4\n",
      "6\n",
      "10\n",
      "0.0009949207305908203\n"
     ]
    }
   ],
   "source": [
    "import time\n",
    "s=time.time()\n",
    "def gun(n):\n",
    "    if n<=2:\n",
    "        return\n",
    "        print(\"hello\")\n",
    "    print(n)\n",
    "    gun(n-2)\n",
    "    gun(n-4)\n",
    "    print(n)\n",
    "gun(10)\n",
    "e=time.time()\n",
    "print(e-s)"
   ]
  },
  {
   "cell_type": "raw",
   "id": "d0502a74",
   "metadata": {},
   "source": [
    "f(8)==>\n",
    "        f(6),f(4),p(n)\n",
    "            f(6)==>f(4),f(2),p(n)\n",
    "            f(4)==>f(2),f(0),p(n)\n",
    "            f(2)==>f(0),p(n)\n",
    "        \n",
    "            f(4)==>f(2),f(0),p(n)\n",
    "       p(n)"
   ]
  },
  {
   "cell_type": "code",
   "execution_count": 29,
   "id": "5fdbf6bf",
   "metadata": {},
   "outputs": [
    {
     "name": "stdout",
     "output_type": "stream",
     "text": [
      "42\n",
      "1.2478828430175781\n"
     ]
    }
   ],
   "source": [
    "def fun(n):\n",
    "    if n<=2:return n\n",
    "    return fun(n-4)+fun(n-2)\n",
    "c=time.time()\n",
    "x=fun(16)\n",
    "print(x)\n",
    "e=time.time()\n",
    "print((e-c)*10**3)"
   ]
  },
  {
   "cell_type": "code",
   "execution_count": null,
   "id": "83929fcc",
   "metadata": {},
   "outputs": [],
   "source": [
    "def optimized(n):\n",
    "    global dp=[-100 for i in range(n)]\n",
    "    if dp[n]!=-100:\n",
    "        return dp[n]\n",
    "    if n<=2:\n",
    "        dp[n]=n\n",
    "        return n\n",
    "    return fun(n-2)+fun(n-4)"
   ]
  },
  {
   "cell_type": "code",
   "execution_count": null,
   "id": "36e8c04d",
   "metadata": {},
   "outputs": [],
   "source": []
  }
 ],
 "metadata": {
  "kernelspec": {
   "display_name": "Python 3 (ipykernel)",
   "language": "python",
   "name": "python3"
  },
  "language_info": {
   "codemirror_mode": {
    "name": "ipython",
    "version": 3
   },
   "file_extension": ".py",
   "mimetype": "text/x-python",
   "name": "python",
   "nbconvert_exporter": "python",
   "pygments_lexer": "ipython3",
   "version": "3.10.9"
  }
 },
 "nbformat": 4,
 "nbformat_minor": 5
}
