{
 "cells": [
  {
   "cell_type": "code",
   "execution_count": 7,
   "id": "08b36d87-b31c-440a-b089-39d54c3d01cf",
   "metadata": {},
   "outputs": [
    {
     "name": "stdin",
     "output_type": "stream",
     "text": [
      " 4\n"
     ]
    },
    {
     "name": "stdout",
     "output_type": "stream",
     "text": [
      "    *\n",
      "   ***\n",
      "  *****\n",
      " *******\n"
     ]
    }
   ],
   "source": [
    "n = int(input())\n",
    "for i in range(n):\n",
    "    for j in range(n-i): \n",
    "        print(end=' ')    \n",
    "    for j in range(i): \n",
    "        print('*',end='')\n",
    "    for j in range(i+1,0,-1):\n",
    "        print('*',end='')\n",
    "    print()"
   ]
  },
  {
   "cell_type": "markdown",
   "id": "2c2fdd13-7c10-4604-bd93-91cb2b0eb94a",
   "metadata": {},
   "source": [
    "##### "
   ]
  },
  {
   "cell_type": "code",
   "execution_count": 29,
   "id": "6da8606d-9661-4523-9fbd-d1f09ac908bc",
   "metadata": {},
   "outputs": [
    {
     "name": "stdin",
     "output_type": "stream",
     "text": [
      " 4\n"
     ]
    },
    {
     "name": "stdout",
     "output_type": "stream",
     "text": [
      "   *   \n",
      "  ***  \n",
      " ***** \n",
      "*******\n"
     ]
    }
   ],
   "source": [
    "n=int(input())\n",
    "for i in range(n):\n",
    "    for j in range(2*n-1):\n",
    "        if (j>=(n-i-1)) and (j<=(n+i-1)):\n",
    "            print(\"*\",end=\"\")\n",
    "        else:\n",
    "            print(end=\" \")\n",
    "    print()"
   ]
  },
  {
   "cell_type": "code",
   "execution_count": 66,
   "id": "7d20ddd5-5f5b-468d-b121-cdba59bd1884",
   "metadata": {},
   "outputs": [
    {
     "name": "stdout",
     "output_type": "stream",
     "text": [
      "     *     \n",
      "    ***    \n",
      "   *****   \n",
      "  *******  \n",
      " ********* \n",
      "***********\n"
     ]
    }
   ],
   "source": [
    "def pyramid(n):\n",
    "    row=n\n",
    "    col=2*n-1\n",
    "    start,end=n-1,n-1\n",
    "    for i in range(row):\n",
    "        for j in range(col):\n",
    "            if j>=start and j<=end:\n",
    "                print(\"*\",end=\"\")\n",
    "            else:\n",
    "                print(end=\" \")\n",
    "        print()\n",
    "        start-=1\n",
    "        end+=1\n",
    "pyramid(6)"
   ]
  },
  {
   "cell_type": "code",
   "execution_count": 63,
   "id": "ebf70f43-b7de-452a-afe5-4b805537ae62",
   "metadata": {},
   "outputs": [
    {
     "name": "stdin",
     "output_type": "stream",
     "text": [
      " 4\n"
     ]
    },
    {
     "name": "stdout",
     "output_type": "stream",
     "text": [
      " ** \n",
      "****\n",
      "****\n",
      " ** \n"
     ]
    }
   ],
   "source": [
    "n=int(input())\n",
    "for i in range(n):\n",
    "    for j in range(n):\n",
    "        if (i==0 and j==0) or (i==0 and j==n-1) or (i==n-1 and j==n-1) or (i==n-1 and j==0):\n",
    "            print(end=\" \")\n",
    "        else:\n",
    "            print(\"*\",end=\"\")\n",
    "    print()"
   ]
  },
  {
   "cell_type": "code",
   "execution_count": 76,
   "id": "8925fffe-fe88-4eec-9806-c73dc68138f7",
   "metadata": {},
   "outputs": [
    {
     "name": "stdout",
     "output_type": "stream",
     "text": [
      " *** \n",
      "*   *\n",
      "*   *\n",
      "*   *\n",
      " *** \n"
     ]
    }
   ],
   "source": [
    "def circle(n):\n",
    "    for i in range(n):\n",
    "        for j in range(n):\n",
    "            if i==j or i+j==n-1 :\n",
    "                print(end=\" \")\n",
    "            elif i==0 or i==n-1 or j==0 or j==n-1:\n",
    "                print(\"*\",end=\"\")\n",
    "            else:\n",
    "                print(\" \",end=\"\")\n",
    "        print()\n",
    "circle(5)"
   ]
  },
  {
   "cell_type": "code",
   "execution_count": 146,
   "id": "c777377d-390e-4c75-ace2-d0d7c0d4a660",
   "metadata": {},
   "outputs": [
    {
     "name": "stdout",
     "output_type": "stream",
     "text": [
      "\n",
      "a\n",
      "bc\n",
      "def\n",
      "ghij\n",
      "klmno\n",
      "pqrstu\n",
      "vwxyz{|\n",
      "}~\n",
      "",
      "\n",
      "\n",
      " ¡¢\n",
      "£¤¥¦§¨©ª«¬­®\n",
      "¯°±²³´µ¶·¸¹º»\n",
      "¼½¾¿ÀÁÂÃÄÅÆÇÈÉ\n",
      "ÊËÌÍÎÏÐÑÒÓÔÕÖ×Ø\n",
      "ÙÚÛÜÝÞßàáâãäåæçè\n",
      "éêëìíîïðñòóôõö÷øù\n",
      "úûüýþÿĀāĂăĄąĆćĈĉĊċ\n",
      "ČčĎďĐđĒēĔĕĖėĘęĚěĜĝĞ\n",
      "ğĠġĢģĤĥĦħĨĩĪīĬĭĮįİıĲ\n",
      "ĳĴĵĶķĸĹĺĻļĽľĿŀŁłŃńŅņŇ\n",
      "ňŉŊŋŌōŎŏŐőŒœŔŕŖŗŘřŚśŜŝ\n",
      "ŞşŠšŢţŤťŦŧŨũŪūŬŭŮůŰűŲųŴ\n",
      "ŵŶŷŸŹźŻżŽžſƀƁƂƃƄƅƆƇƈƉƊƋƌ\n",
      "ƍƎƏƐƑƒƓƔƕƖƗƘƙƚƛƜƝƞƟƠơƢƣƤƥ\n"
     ]
    }
   ],
   "source": [
    "let=ord('a')\n",
    "for i in range(26):\n",
    "    for j in range(i):\n",
    "        # if let==ord('z')+1:\n",
    "        #     break\n",
    "        print(chr(let),end=\"\")\n",
    "        let+=1\n",
    "       \n",
    "    print()"
   ]
  },
  {
   "cell_type": "code",
   "execution_count": 110,
   "id": "fe624fe6-04f6-4071-b8c3-48dc1139faea",
   "metadata": {},
   "outputs": [
    {
     "name": "stdout",
     "output_type": "stream",
     "text": [
      "a \n",
      "b c \n",
      "d e f \n",
      "g h i j \n",
      "k l m n o \n"
     ]
    }
   ],
   "source": [
    "n=5\n",
    "char='a'\n",
    "for i in range(1,n+1):\n",
    "    for j in range(i):\n",
    "        print(char,end=\" \")\n",
    "        char=chr(ord(char)+1)\n",
    "        if char>'z':\n",
    "            char=a\n",
    "    print()"
   ]
  },
  {
   "cell_type": "code",
   "execution_count": 93,
   "id": "0d453cc3-9726-492c-97cb-81c85c6d7765",
   "metadata": {},
   "outputs": [
    {
     "name": "stdout",
     "output_type": "stream",
     "text": [
      "❤️\n"
     ]
    }
   ],
   "source": [
    "print(\"\\u2764\\uFE0F\")\n"
   ]
  },
  {
   "cell_type": "code",
   "execution_count": null,
   "id": "9980e352-d818-42d7-b20d-c021489683f5",
   "metadata": {},
   "outputs": [],
   "source": []
  },
  {
   "cell_type": "code",
   "execution_count": 103,
   "id": "aa140425-fa07-4d3e-89b0-ad415787f249",
   "metadata": {},
   "outputs": [
    {
     "name": "stdin",
     "output_type": "stream",
     "text": [
      " 4\n"
     ]
    },
    {
     "name": "stdout",
     "output_type": "stream",
     "text": [
      "    * \n",
      "   * * \n",
      "  * * * \n",
      " * * * * \n"
     ]
    }
   ],
   "source": [
    "n = int(input())\n",
    "for i in range(n):\n",
    "    for j in range(n-i):\n",
    "        print(' ',end='')\n",
    "    for j in range(i+1):\n",
    "        print('* ',end='')\n",
    "    print()"
   ]
  },
  {
   "cell_type": "code",
   "execution_count": 145,
   "id": "4a3d0d43-3984-4331-94fc-478f564714fc",
   "metadata": {},
   "outputs": [
    {
     "name": "stdout",
     "output_type": "stream",
     "text": [
      "     *     \n",
      "    * *    \n",
      "   *   *   \n",
      "  *     *  \n",
      " *       * \n",
      "* * * * * *      \n"
     ]
    }
   ],
   "source": [
    "def pyramid(n):\n",
    "    row=n\n",
    "    col=2*n-1\n",
    "    val=2\n",
    "    start,end=n-1,n-1\n",
    "    for i in range(row):\n",
    "        for j in range(col):\n",
    "            if (j==start or j==end) and i!=n-1:\n",
    "                print(\"*\",end=\"\")\n",
    "            elif i==n-1 and (j>=start and j<=n-1):\n",
    "                print(\"*\",end=\" \")\n",
    "            else:\n",
    "                print(\" \",end=\"\")\n",
    "          \n",
    "        print()\n",
    "        start-=1\n",
    "        end+=1\n",
    "pyramid(6)"
   ]
  },
  {
   "cell_type": "code",
   "execution_count": 152,
   "id": "6275ca07-4efb-4390-b4d4-3eff40c98b02",
   "metadata": {},
   "outputs": [
    {
     "name": "stdout",
     "output_type": "stream",
     "text": [
      "1\n",
      "12\n",
      "13\n",
      "14\n",
      "15\n",
      "1 2 3 4 5 6 \n"
     ]
    }
   ],
   "source": [
    "def pyramid(n):\n",
    "    row=n\n",
    "    col=2*n-1\n",
    "    val=2\n",
    "    val2=1\n",
    "    start,end=n-1,n-1\n",
    "    for i in range(row):\n",
    "        for j in range(col):\n",
    "            if (j==start or j==end) and i!=n-1:\n",
    "                if start==end:\n",
    "                    print(1,end=\"\")\n",
    "                elif j==start:\n",
    "                    print(1,end=\"\")\n",
    "                else:\n",
    "                    print(val,end=\"\")\n",
    "                    val+=1\n",
    "            elif i==n-1 and (j>=start and j<=n-1):\n",
    "                print(val2,end=\" \")\n",
    "                val2+=1 \n",
    "        print()\n",
    "        start-=1\n",
    "        end+=1\n",
    "pyramid(6)"
   ]
  },
  {
   "cell_type": "code",
   "execution_count": null,
   "id": "10109a74-0f77-4b7b-aea2-a0c6222239d1",
   "metadata": {},
   "outputs": [],
   "source": []
  },
  {
   "cell_type": "code",
   "execution_count": null,
   "id": "f1d6ad55-bb6b-4457-af62-c8559b098867",
   "metadata": {},
   "outputs": [],
   "source": []
  }
 ],
 "metadata": {
  "kernelspec": {
   "display_name": "Python 3 (ipykernel)",
   "language": "python",
   "name": "python3"
  },
  "language_info": {
   "codemirror_mode": {
    "name": "ipython",
    "version": 3
   },
   "file_extension": ".py",
   "mimetype": "text/x-python",
   "name": "python",
   "nbconvert_exporter": "python",
   "pygments_lexer": "ipython3",
   "version": "3.11.1"
  }
 },
 "nbformat": 4,
 "nbformat_minor": 5
}
