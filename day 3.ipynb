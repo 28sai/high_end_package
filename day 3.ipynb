{
 "cells": [
  {
   "cell_type": "code",
   "execution_count": 1,
   "id": "7e9fbdf1",
   "metadata": {},
   "outputs": [
    {
     "name": "stdout",
     "output_type": "stream",
     "text": [
      "2\n"
     ]
    }
   ],
   "source": [
    "print(10&4+3)"
   ]
  },
  {
   "cell_type": "code",
   "execution_count": 2,
   "id": "0bec4368",
   "metadata": {},
   "outputs": [
    {
     "name": "stdout",
     "output_type": "stream",
     "text": [
      "2\n"
     ]
    }
   ],
   "source": [
    "print(10&7)"
   ]
  },
  {
   "cell_type": "code",
   "execution_count": 3,
   "id": "5c92515d",
   "metadata": {},
   "outputs": [
    {
     "name": "stdout",
     "output_type": "stream",
     "text": [
      "0\n"
     ]
    }
   ],
   "source": [
    "print(10&4)"
   ]
  },
  {
   "cell_type": "code",
   "execution_count": 4,
   "id": "69326dcf",
   "metadata": {},
   "outputs": [
    {
     "name": "stdout",
     "output_type": "stream",
     "text": [
      "1\n"
     ]
    }
   ],
   "source": [
    "print(7+2&4+3&9)"
   ]
  },
  {
   "cell_type": "code",
   "execution_count": 5,
   "id": "5102c442",
   "metadata": {},
   "outputs": [
    {
     "name": "stdout",
     "output_type": "stream",
     "text": [
      "10\n"
     ]
    }
   ],
   "source": [
    "print(10|3&4)"
   ]
  },
  {
   "cell_type": "code",
   "execution_count": 6,
   "id": "af1496f1",
   "metadata": {},
   "outputs": [
    {
     "name": "stdout",
     "output_type": "stream",
     "text": [
      "0\n"
     ]
    }
   ],
   "source": [
    "print(3&4)"
   ]
  },
  {
   "cell_type": "code",
   "execution_count": 7,
   "id": "418ab375",
   "metadata": {},
   "outputs": [
    {
     "name": "stdout",
     "output_type": "stream",
     "text": [
      "10\n"
     ]
    }
   ],
   "source": [
    "print(10|0)"
   ]
  },
  {
   "cell_type": "code",
   "execution_count": 8,
   "id": "96551b35",
   "metadata": {},
   "outputs": [
    {
     "name": "stdout",
     "output_type": "stream",
     "text": [
      "11\n"
     ]
    }
   ],
   "source": [
    "print(10|3)"
   ]
  },
  {
   "cell_type": "code",
   "execution_count": 9,
   "id": "9c0931b2",
   "metadata": {},
   "outputs": [
    {
     "name": "stdout",
     "output_type": "stream",
     "text": [
      "0\n"
     ]
    }
   ],
   "source": [
    "print(11&4)"
   ]
  },
  {
   "cell_type": "code",
   "execution_count": 10,
   "id": "f308a5a7",
   "metadata": {},
   "outputs": [
    {
     "name": "stdout",
     "output_type": "stream",
     "text": [
      "5\n"
     ]
    }
   ],
   "source": [
    "print(3&6^7)"
   ]
  },
  {
   "cell_type": "code",
   "execution_count": 11,
   "id": "17151124",
   "metadata": {},
   "outputs": [
    {
     "name": "stdout",
     "output_type": "stream",
     "text": [
      "2\n"
     ]
    }
   ],
   "source": [
    "print(3&6)"
   ]
  },
  {
   "cell_type": "code",
   "execution_count": 12,
   "id": "d76fa556",
   "metadata": {},
   "outputs": [
    {
     "name": "stdout",
     "output_type": "stream",
     "text": [
      "5\n"
     ]
    }
   ],
   "source": [
    "print(2^7)"
   ]
  },
  {
   "cell_type": "code",
   "execution_count": 13,
   "id": "247a05ad",
   "metadata": {},
   "outputs": [
    {
     "name": "stdout",
     "output_type": "stream",
     "text": [
      "6\n"
     ]
    }
   ],
   "source": [
    "print(2|3^5)"
   ]
  },
  {
   "cell_type": "code",
   "execution_count": 14,
   "id": "e86749d9",
   "metadata": {},
   "outputs": [
    {
     "name": "stdout",
     "output_type": "stream",
     "text": [
      "3\n"
     ]
    }
   ],
   "source": [
    "print(2|3)"
   ]
  },
  {
   "cell_type": "code",
   "execution_count": 15,
   "id": "83cefd4b",
   "metadata": {},
   "outputs": [
    {
     "name": "stdout",
     "output_type": "stream",
     "text": [
      "6\n"
     ]
    }
   ],
   "source": [
    "print(3^5)"
   ]
  },
  {
   "cell_type": "markdown",
   "id": "88706501",
   "metadata": {},
   "source": [
    "<h1>order of bitwise</h1>\n",
    "<h2><b>~ (>) & (>) ^ (>) |</b></h2>"
   ]
  },
  {
   "cell_type": "code",
   "execution_count": 16,
   "id": "267a1344",
   "metadata": {},
   "outputs": [
    {
     "data": {
      "text/plain": [
       "'0b1110'"
      ]
     },
     "execution_count": 16,
     "metadata": {},
     "output_type": "execute_result"
    }
   ],
   "source": [
    "bin(14)"
   ]
  },
  {
   "cell_type": "code",
   "execution_count": 19,
   "id": "dd5803a3",
   "metadata": {},
   "outputs": [
    {
     "ename": "SyntaxError",
     "evalue": "invalid syntax (2482061267.py, line 1)",
     "output_type": "error",
     "traceback": [
      "\u001b[1;36m  Cell \u001b[1;32mIn[19], line 1\u001b[1;36m\u001b[0m\n\u001b[1;33m    10 & 4 ~ 2\u001b[0m\n\u001b[1;37m           ^\u001b[0m\n\u001b[1;31mSyntaxError\u001b[0m\u001b[1;31m:\u001b[0m invalid syntax\n"
     ]
    }
   ],
   "source": [
    "10 & 4 ~ 2"
   ]
  },
  {
   "cell_type": "code",
   "execution_count": 20,
   "id": "eb8a6a84",
   "metadata": {},
   "outputs": [
    {
     "data": {
      "text/plain": [
       "7"
      ]
     },
     "execution_count": 20,
     "metadata": {},
     "output_type": "execute_result"
    }
   ],
   "source": [
    "6|3&9+6"
   ]
  },
  {
   "cell_type": "code",
   "execution_count": 21,
   "id": "660b25f7",
   "metadata": {},
   "outputs": [
    {
     "ename": "SyntaxError",
     "evalue": "invalid syntax (3991895762.py, line 1)",
     "output_type": "error",
     "traceback": [
      "\u001b[1;36m  Cell \u001b[1;32mIn[21], line 1\u001b[1;36m\u001b[0m\n\u001b[1;33m    2~4^3*2\u001b[0m\n\u001b[1;37m     ^\u001b[0m\n\u001b[1;31mSyntaxError\u001b[0m\u001b[1;31m:\u001b[0m invalid syntax\n"
     ]
    }
   ],
   "source": [
    "2~4^3*2  #invalid"
   ]
  },
  {
   "cell_type": "code",
   "execution_count": 22,
   "id": "ff8cf442",
   "metadata": {},
   "outputs": [
    {
     "data": {
      "text/plain": [
       "-3"
      ]
     },
     "execution_count": 22,
     "metadata": {},
     "output_type": "execute_result"
    }
   ],
   "source": [
    "~2"
   ]
  },
  {
   "cell_type": "code",
   "execution_count": 23,
   "id": "d7c25406",
   "metadata": {},
   "outputs": [
    {
     "data": {
      "text/plain": [
       "2"
      ]
     },
     "execution_count": 23,
     "metadata": {},
     "output_type": "execute_result"
    }
   ],
   "source": [
    "~9+4&6"
   ]
  },
  {
   "cell_type": "code",
   "execution_count": 24,
   "id": "829254ef",
   "metadata": {},
   "outputs": [
    {
     "data": {
      "text/plain": [
       "-5"
      ]
     },
     "execution_count": 24,
     "metadata": {},
     "output_type": "execute_result"
    }
   ],
   "source": [
    "~(4^3)+3"
   ]
  },
  {
   "cell_type": "code",
   "execution_count": 25,
   "id": "b1a76bc2",
   "metadata": {},
   "outputs": [
    {
     "data": {
      "text/plain": [
       "7"
      ]
     },
     "execution_count": 25,
     "metadata": {},
     "output_type": "execute_result"
    }
   ],
   "source": [
    "14>>1"
   ]
  },
  {
   "cell_type": "code",
   "execution_count": 26,
   "id": "33b66c2a",
   "metadata": {},
   "outputs": [
    {
     "data": {
      "text/plain": [
       "3"
      ]
     },
     "execution_count": 26,
     "metadata": {},
     "output_type": "execute_result"
    }
   ],
   "source": [
    "14>>2"
   ]
  },
  {
   "cell_type": "code",
   "execution_count": 27,
   "id": "49a6ffc7",
   "metadata": {},
   "outputs": [
    {
     "data": {
      "text/plain": [
       "1"
      ]
     },
     "execution_count": 27,
     "metadata": {},
     "output_type": "execute_result"
    }
   ],
   "source": [
    "14>>3"
   ]
  },
  {
   "cell_type": "code",
   "execution_count": 28,
   "id": "fc263f31",
   "metadata": {},
   "outputs": [
    {
     "data": {
      "text/plain": [
       "28"
      ]
     },
     "execution_count": 28,
     "metadata": {},
     "output_type": "execute_result"
    }
   ],
   "source": [
    "14<<1"
   ]
  },
  {
   "cell_type": "code",
   "execution_count": 29,
   "id": "837ba280",
   "metadata": {},
   "outputs": [
    {
     "data": {
      "text/plain": [
       "56"
      ]
     },
     "execution_count": 29,
     "metadata": {},
     "output_type": "execute_result"
    }
   ],
   "source": [
    "14<<2"
   ]
  },
  {
   "cell_type": "code",
   "execution_count": 30,
   "id": "c0e58d5f",
   "metadata": {},
   "outputs": [
    {
     "data": {
      "text/plain": [
       "112"
      ]
     },
     "execution_count": 30,
     "metadata": {},
     "output_type": "execute_result"
    }
   ],
   "source": [
    "14<<3"
   ]
  },
  {
   "cell_type": "code",
   "execution_count": 31,
   "id": "c324d737",
   "metadata": {},
   "outputs": [
    {
     "data": {
      "text/plain": [
       "2"
      ]
     },
     "execution_count": 31,
     "metadata": {},
     "output_type": "execute_result"
    }
   ],
   "source": [
    "-10+4&6"
   ]
  },
  {
   "cell_type": "code",
   "execution_count": 33,
   "id": "9c4dbed2",
   "metadata": {},
   "outputs": [
    {
     "data": {
      "text/plain": [
       "0"
      ]
     },
     "execution_count": 33,
     "metadata": {},
     "output_type": "execute_result"
    }
   ],
   "source": [
    "~6&6"
   ]
  },
  {
   "cell_type": "code",
   "execution_count": 34,
   "id": "14a38b65",
   "metadata": {},
   "outputs": [
    {
     "data": {
      "text/plain": [
       "-6"
      ]
     },
     "execution_count": 34,
     "metadata": {},
     "output_type": "execute_result"
    }
   ],
   "source": [
    "-10+4"
   ]
  },
  {
   "cell_type": "code",
   "execution_count": 35,
   "id": "dfb35511",
   "metadata": {},
   "outputs": [
    {
     "data": {
      "text/plain": [
       "2"
      ]
     },
     "execution_count": 35,
     "metadata": {},
     "output_type": "execute_result"
    }
   ],
   "source": [
    "-6&6"
   ]
  },
  {
   "cell_type": "code",
   "execution_count": 36,
   "id": "6f1ce701",
   "metadata": {},
   "outputs": [
    {
     "data": {
      "text/plain": [
       "6"
      ]
     },
     "execution_count": 36,
     "metadata": {},
     "output_type": "execute_result"
    }
   ],
   "source": [
    "6&6"
   ]
  },
  {
   "cell_type": "code",
   "execution_count": 37,
   "id": "cc1901fe",
   "metadata": {},
   "outputs": [
    {
     "data": {
      "text/plain": [
       "'-0b110'"
      ]
     },
     "execution_count": 37,
     "metadata": {},
     "output_type": "execute_result"
    }
   ],
   "source": [
    "bin(-6)"
   ]
  },
  {
   "cell_type": "markdown",
   "id": "e0887a2a",
   "metadata": {},
   "source": [
    "<h2><b>~n=-(n+1)<br>\n",
    "-n=~n+1\n",
    "</b></h2>"
   ]
  },
  {
   "cell_type": "code",
   "execution_count": 40,
   "id": "8f36da32",
   "metadata": {},
   "outputs": [
    {
     "data": {
      "text/plain": [
       "14"
      ]
     },
     "execution_count": 40,
     "metadata": {},
     "output_type": "execute_result"
    }
   ],
   "source": [
    "7<<1\n"
   ]
  },
  {
   "cell_type": "markdown",
   "id": "245cd65f",
   "metadata": {},
   "source": [
    " <h1> even 1's : 0<br>\n",
    "    odd 1's : 1<br>\n",
    "    \n",
    "xor of number itself is 0<br>\n",
    "xor of number with 0 is number itself<br> \n",
    "   5>>1:=>>2<br>\n",
    "    5/2==2\n",
    "    \n",
    "    <br>\n",
    "    5<<1==10\n",
    "    5*2==10\n",
    "</h1>"
   ]
  },
  {
   "cell_type": "code",
   "execution_count": 42,
   "id": "d1284f19",
   "metadata": {},
   "outputs": [
    {
     "data": {
      "text/plain": [
       "0"
      ]
     },
     "execution_count": 42,
     "metadata": {},
     "output_type": "execute_result"
    }
   ],
   "source": [
    "1^2^3"
   ]
  },
  {
   "cell_type": "markdown",
   "id": "62ef1872",
   "metadata": {},
   "source": [
    "<table>\n",
    "    <tr>\n",
    "        <td>\n",
    "            A \n",
    "        </td>\n",
    "        <td>\n",
    "             B \n",
    "        </td>\n",
    "        <td>\n",
    "            A^B\n",
    "        </td>\n",
    "    </tr>\n",
    "    <tr>\n",
    "        <td>\n",
    "          0 \n",
    "        </td>\n",
    "        <td>\n",
    "          0 \n",
    "        </td>\n",
    "        <td>\n",
    "          0 \n",
    "        </td>\n",
    "    </tr>\n",
    "    <tr>\n",
    "        <td>\n",
    "          1\n",
    "        </td>\n",
    "        <td>\n",
    "          1 \n",
    "        </td>\n",
    "        <td>\n",
    "          0\n",
    "        </td>\n",
    "    </tr>\n",
    "    <tr>\n",
    "        <td>\n",
    "          1 \n",
    "        </td>\n",
    "        <td>\n",
    "          0 \n",
    "        </td>\n",
    "        <td>\n",
    "          1 \n",
    "        </td>\n",
    "    </tr>\n",
    "    <tr>\n",
    "        <td>\n",
    "          0 \n",
    "        </td>\n",
    "        <td>\n",
    "          1 \n",
    "        </td>\n",
    "        <td>\n",
    "          1 \n",
    "        </td>\n",
    "    </tr>\n",
    "    \n",
    "   </table>"
   ]
  },
  {
   "cell_type": "code",
   "execution_count": 44,
   "id": "3f5abec0",
   "metadata": {},
   "outputs": [
    {
     "data": {
      "text/plain": [
       "2147483648"
      ]
     },
     "execution_count": 44,
     "metadata": {},
     "output_type": "execute_result"
    }
   ],
   "source": [
    "2**31"
   ]
  },
  {
   "cell_type": "code",
   "execution_count": 4,
   "id": "ec4683ae",
   "metadata": {},
   "outputs": [
    {
     "name": "stdout",
     "output_type": "stream",
     "text": [
      "5\n",
      "1 2 3 5\n",
      "4\n"
     ]
    }
   ],
   "source": [
    "def missing_no(n,arr):\n",
    "    chk=0\n",
    "    for i in range(len(arr)):\n",
    "        if arr[i]==1:\n",
    "            chk+=1\n",
    "        if arr[i]<0:\n",
    "            arr[i]=1\n",
    "        \n",
    "    if chk==0:\n",
    "        return 1\n",
    "    for i in range(len(arr)):\n",
    "        val=abs(arr[i])-1\n",
    "        if val>=0 and val<len(arr):\n",
    "            arr[val]=-1*abs(arr[val])\n",
    "    for i in range(len(arr)):\n",
    "        if arr[i]>0:\n",
    "            return i+1\n",
    "    return len(arr)+1\n",
    "n=int(input())\n",
    "arr=list(map(int,input().split()))\n",
    "print(missing_no(n,arr))"
   ]
  },
  {
   "cell_type": "code",
   "execution_count": 15,
   "id": "a94f0b0b",
   "metadata": {},
   "outputs": [
    {
     "name": "stdout",
     "output_type": "stream",
     "text": [
      "1 2 3 5\n",
      "0\n"
     ]
    }
   ],
   "source": [
    "def miss(arr):\n",
    "    nums=set(arr)\n",
    "    l=0\n",
    "    while l in nums:\n",
    "        l+=1\n",
    "    return l\n",
    "arr=list(map(int,input().split()))\n",
    "res=miss(arr)\n",
    "print(res)\n"
   ]
  },
  {
   "cell_type": "code",
   "execution_count": 14,
   "id": "febd4e53",
   "metadata": {},
   "outputs": [
    {
     "name": "stdout",
     "output_type": "stream",
     "text": [
      "0 1 2 3 4\n",
      "[0, 1, 2, 3, 4]\n"
     ]
    }
   ],
   "source": [
    "b=input()\n",
    "a=[int(x) for x in b.split()]\n",
    "print(a)\n",
    "for i in range(len(a)):\n",
    "    if i not in a:\n",
    "        print(i)\n",
    "        break\n",
    "        "
   ]
  },
  {
   "cell_type": "code",
   "execution_count": 16,
   "id": "8c5b5111",
   "metadata": {},
   "outputs": [
    {
     "name": "stdout",
     "output_type": "stream",
     "text": [
      "1 5 1 2 3 2 3\n",
      "5\n"
     ]
    }
   ],
   "source": [
    "#in the given an array every numbeer occur twice only one nmber occurs one time \n",
    "def sno(n):\n",
    "    c=0\n",
    "    for i in n:\n",
    "        c^=i\n",
    "    return c\n",
    "n=list(map(int,input().split()))\n",
    "x=sno(n)\n",
    "print(x)\n"
   ]
  },
  {
   "cell_type": "code",
   "execution_count": null,
   "id": "a675d7e9",
   "metadata": {},
   "outputs": [],
   "source": [
    "#in triples\n",
    "def sno(n):\n",
    "    ones=0\n",
    "    twos=0\n",
    "    for i in range(len(n)):\n",
    "        twos=twos^(ones&n[i])\n",
    "        ones=ones^n[i]\n",
    "        cmbits=~(ones&twos)\n",
    "        ones=ones&cmbits\n",
    "        twos=twos&cmbits\n",
    "    return ones\n",
    "n=list(map(int,input().split()))\n",
    "x=sno(n)\n",
    "print(x)"
   ]
  },
  {
   "cell_type": "code",
   "execution_count": 20,
   "id": "cd9387d8",
   "metadata": {},
   "outputs": [
    {
     "name": "stdout",
     "output_type": "stream",
     "text": [
      "10 20\n",
      "20 10\n"
     ]
    }
   ],
   "source": [
    "#swapping two numbers using xor\n",
    "a=10\n",
    "b=20\n",
    "print(a,b)\n",
    "a=a^b\n",
    "b=a^b\n",
    "a=a^b\n",
    "print(a,b)"
   ]
  },
  {
   "cell_type": "code",
   "execution_count": 22,
   "id": "4340566c",
   "metadata": {},
   "outputs": [
    {
     "name": "stdout",
     "output_type": "stream",
     "text": [
      "5\n",
      "set bit\n",
      "\n"
     ]
    }
   ],
   "source": [
    "#give a number n abnnd integer i find out if ith bit is set or not?\n",
    "n=int(input())\n",
    "i=2\n",
    "if 1&(n>>i)==1:\n",
    "    print(\"set bit\")\n",
    "else:\n",
    "    print(\"not set\")\n",
    "print()\n",
    "\n"
   ]
  },
  {
   "cell_type": "code",
   "execution_count": 31,
   "id": "35690278",
   "metadata": {},
   "outputs": [
    {
     "name": "stdout",
     "output_type": "stream",
     "text": [
      "10\n",
      "not set bit\n"
     ]
    }
   ],
   "source": [
    "n=int(input())\n",
    "i=4\n",
    "if n&(1<<i)==0:\n",
    "    print(\"not set bit\")\n",
    "else:\n",
    "    print(\"set bit\")\n"
   ]
  },
  {
   "cell_type": "code",
   "execution_count": 40,
   "id": "88f09c4f",
   "metadata": {},
   "outputs": [
    {
     "name": "stdout",
     "output_type": "stream",
     "text": [
      "5\n",
      "1\n"
     ]
    }
   ],
   "source": [
    "#for given number n find out xor of all numbers\n",
    "n=int(input())\n",
    "c=0\n",
    "for i in range(1,n+1):\n",
    "    c=c^i\n",
    "print(c)"
   ]
  },
  {
   "cell_type": "code",
   "execution_count": 83,
   "id": "57c38b6d",
   "metadata": {},
   "outputs": [
    {
     "name": "stdout",
     "output_type": "stream",
     "text": [
      "3\n",
      "0\n"
     ]
    }
   ],
   "source": [
    "#O(1)\n",
    "#xor of all numbers\n",
    "n=int(input())\n",
    "xor=0\n",
    "if n%4==0:\n",
    "    print(n)\n",
    "elif n%4==1:\n",
    "    print(1)\n",
    "elif n%4==2:\n",
    "    print(n+1)\n",
    "elif n%4==3:\n",
    "    print(0)\n"
   ]
  },
  {
   "cell_type": "code",
   "execution_count": 51,
   "id": "5d873699",
   "metadata": {},
   "outputs": [
    {
     "name": "stdout",
     "output_type": "stream",
     "text": [
      "5\n",
      "no\n"
     ]
    }
   ],
   "source": [
    "n=int(input())\n",
    "if n&(n-1)==0:\n",
    "    print(\"yes\")\n",
    "else:\n",
    "    print(\"no\")"
   ]
  },
  {
   "cell_type": "code",
   "execution_count": 57,
   "id": "bb279313",
   "metadata": {},
   "outputs": [
    {
     "name": "stdout",
     "output_type": "stream",
     "text": [
      "2\n",
      "4\n",
      "5\n"
     ]
    }
   ],
   "source": [
    "#xor for range numbers\n",
    "l=int(input())\n",
    "r=int(input())\n",
    "for i in range(l,r+1):\n",
    "    c=c^i\n",
    "print(c)"
   ]
  },
  {
   "cell_type": "code",
   "execution_count": 88,
   "id": "fde203a1",
   "metadata": {},
   "outputs": [
    {
     "name": "stdout",
     "output_type": "stream",
     "text": [
      "4\n",
      "9\n",
      "[1 2 3 4 5 6 7 8 9] [1 2 3]\n",
      "1\n",
      "0\n"
     ]
    }
   ],
   "source": [
    "import numpy as np\n",
    "l=int(input())\n",
    "r=int(input())\n",
    "x=np.arange(1,r+1)\n",
    "y=np.arange(1,l)\n",
    "print(x,y)\n",
    "def xor(n):\n",
    "    xor=0\n",
    "    if n%4==0:\n",
    "        print(n)\n",
    "    elif n%4==1:\n",
    "        print(1)\n",
    "    elif n%4==2:\n",
    "        print(n+1)\n",
    "    elif n%4==3:\n",
    "        print(0)\n",
    "xor(len(x))\n",
    "xor(len(y))"
   ]
  },
  {
   "cell_type": "code",
   "execution_count": 61,
   "id": "d0f3d572",
   "metadata": {},
   "outputs": [
    {
     "data": {
      "text/plain": [
       "array([0, 1, 2, 3])"
      ]
     },
     "execution_count": 61,
     "metadata": {},
     "output_type": "execute_result"
    }
   ],
   "source": [
    "import numpy as np\n",
    "np.arange(4)"
   ]
  },
  {
   "cell_type": "code",
   "execution_count": 67,
   "id": "20972cd0",
   "metadata": {},
   "outputs": [
    {
     "data": {
      "text/plain": [
       "array([1, 2, 3])"
      ]
     },
     "execution_count": 67,
     "metadata": {},
     "output_type": "execute_result"
    }
   ],
   "source": [
    "np.arange(1,4)"
   ]
  },
  {
   "cell_type": "code",
   "execution_count": 72,
   "id": "a5030ea8",
   "metadata": {},
   "outputs": [
    {
     "name": "stdout",
     "output_type": "stream",
     "text": [
      "4\n",
      "even\n"
     ]
    }
   ],
   "source": [
    "#even number or not usign xor\n",
    "n=int(input())\n",
    "if n&1==0:\n",
    "    print(\"even\")\n",
    "else:\n",
    "    print(\"odd\")"
   ]
  },
  {
   "cell_type": "code",
   "execution_count": 91,
   "id": "f12f7ae3",
   "metadata": {},
   "outputs": [
    {
     "name": "stdout",
     "output_type": "stream",
     "text": [
      "7\n",
      "13\n"
     ]
    }
   ],
   "source": [
    "def fibonacci(n):\n",
    "    if n<=0:\n",
    "        return 0\n",
    "    elif n==1:\n",
    "        return 1\n",
    "    else:\n",
    "        a,b=0,1\n",
    "        for j in range(2,n+1):\n",
    "            a,b=b,a+b\n",
    "        return b\n",
    "n=int(input())\n",
    "x=fibonacci(n)\n",
    "print(x)\n",
    "\n"
   ]
  },
  {
   "cell_type": "code",
   "execution_count": 93,
   "id": "873b76ff",
   "metadata": {},
   "outputs": [
    {
     "name": "stdout",
     "output_type": "stream",
     "text": [
      "3\n",
      "A C\n",
      "2 A B\n",
      "C B\n",
      "3 A C\n",
      "B A\n",
      "2 B C\n",
      "A C\n"
     ]
    }
   ],
   "source": [
    "def tower_of_hanoi(disks,source,auxiliary,target):  \n",
    "    if(disks==1):  \n",
    "        print(source,target)  \n",
    "        return  \n",
    "    tower_of_hanoi(disks-1,source,target,auxiliary)  \n",
    "    print(disks,source,target)\n",
    "    tower_of_hanoi(disks-1,auxiliary,source,target)  \n",
    "disks=int(input())  \n",
    "tower_of_hanoi(disks, 'A', 'B', 'C') "
   ]
  },
  {
   "cell_type": "code",
   "execution_count": null,
   "id": "ec88cdd0",
   "metadata": {},
   "outputs": [],
   "source": []
  }
 ],
 "metadata": {
  "kernelspec": {
   "display_name": "Python 3 (ipykernel)",
   "language": "python",
   "name": "python3"
  },
  "language_info": {
   "codemirror_mode": {
    "name": "ipython",
    "version": 3
   },
   "file_extension": ".py",
   "mimetype": "text/x-python",
   "name": "python",
   "nbconvert_exporter": "python",
   "pygments_lexer": "ipython3",
   "version": "3.10.9"
  }
 },
 "nbformat": 4,
 "nbformat_minor": 5
}
