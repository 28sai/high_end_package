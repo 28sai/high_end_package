{
 "cells": [
  {
   "cell_type": "code",
   "execution_count": 37,
   "id": "5f333412",
   "metadata": {},
   "outputs": [],
   "source": [
    "from itertools import permutations\n",
    "import collections\n",
    "import pandas as pd\n",
    "import numpy as np"
   ]
  },
  {
   "cell_type": "code",
   "execution_count": 5,
   "id": "0f124423",
   "metadata": {},
   "outputs": [
    {
     "name": "stdout",
     "output_type": "stream",
     "text": [
      "(){}[]\n",
      "(){}[] - Balanced\n"
     ]
    }
   ],
   "source": [
    "# balanced parentheses in an expression\n",
    "open_list = [\"[\",\"{\",\"(\"]\n",
    "close_list = [\"]\",\"}\",\")\"]\n",
    "\n",
    "# Function to check parentheses\n",
    "def check(myStr):\n",
    "    stack = []\n",
    "    for i in myStr:\n",
    "        if i in open_list:\n",
    "            stack.append(i)\n",
    "        elif i in close_list:\n",
    "            pos = close_list.index(i)\n",
    "            if ((len(stack) > 0) and\n",
    "                (open_list[pos] == stack[len(stack)-1])):\n",
    "                stack.pop()\n",
    "            else:\n",
    "                return \"Unbalanced\"\n",
    "    if len(stack) == 0:\n",
    "        return \"Balanced\"\n",
    "    else:\n",
    "        return \"Unbalanced\"\n",
    "\n",
    "string = input()\n",
    "print(string,\"-\", check(string))"
   ]
  },
  {
   "cell_type": "code",
   "execution_count": 16,
   "id": "40d0010f",
   "metadata": {},
   "outputs": [
    {
     "name": "stdout",
     "output_type": "stream",
     "text": [
      "[1, 0, 0, 0, 0]\n",
      "[0, 0, 0, 1, 0]\n",
      "[0, 1, 0, 0, 0]\n",
      "[0, 0, 0, 0, 1]\n",
      "[0, 0, 1, 0, 0]\n",
      "0.0009992122650146484\n"
     ]
    }
   ],
   "source": [
    "import time\n",
    "st=time.time()\n",
    "def is_valid(board, row, col, n):\n",
    "    for i in range(col):# check horizontal\n",
    "        if board[row][i] == 1:\n",
    "            return False\n",
    "    i = row\n",
    "    j = col\n",
    "    while i>=0 and j >= 0: # upper left diag\n",
    "        if board[i][j] == 1:\n",
    "            return False\n",
    "        i -= 1 \n",
    "        j -= 1 \n",
    "    i = row\n",
    "    j = col\n",
    "    while i<n and j >=0: #bottom left diag\n",
    "        if board[i][j] == 1:\n",
    "            return False\n",
    "        i += 1 \n",
    "        j -= 1\n",
    "        \n",
    "    return True\n",
    "def solve(n):\n",
    "    board = [[0 for i in range(n)] for j in range(n)]\n",
    "    def backtrack(col):\n",
    "        if col == n:\n",
    "            return True\n",
    "        for i in range(n):\n",
    "            if is_valid(board, i, col, n):\n",
    "                board[i][col] = 1\n",
    "                \n",
    "                if backtrack(col+1):\n",
    "                    return True\n",
    "                \n",
    "                board[i][col] = 0\n",
    "        \n",
    "        return False\n",
    "    \n",
    "    if backtrack(0):\n",
    "        for row in board:\n",
    "            print(row)\n",
    "    else:\n",
    "        print(\"no solution\")\n",
    "n=5\n",
    "solve(n)\n",
    "en=time.time()\n",
    "print(en-st)"
   ]
  },
  {
   "cell_type": "code",
   "execution_count": 6,
   "id": "4c149c56",
   "metadata": {},
   "outputs": [
    {
     "name": "stdout",
     "output_type": "stream",
     "text": [
      "True\n"
     ]
    }
   ],
   "source": [
    "def is_subset_sum_possible(nums, target_sum):\n",
    "    dp = [False] * (target_sum + 1)\n",
    "    dp[0] = True\n",
    "    for num in nums:\n",
    "        for j in range(target_sum, num - 1, -1):\n",
    "            dp[j] = dp[j] or dp[j - num]\n",
    "    return dp[target_sum]\n",
    "nums = [3, 34, 4, 12, 5, 2]\n",
    "target_sum = 9\n",
    "result = is_subset_sum_possible(nums, target_sum)\n",
    "print(result)"
   ]
  },
  {
   "cell_type": "code",
   "execution_count": 9,
   "id": "7923668d",
   "metadata": {},
   "outputs": [
    {
     "data": {
      "text/plain": [
       "[[0, 0, 0, 0, 0],\n",
       " [0, 0, 0, 0, 0],\n",
       " [0, 0, 0, 0, 0],\n",
       " [0, 0, 0, 0, 0],\n",
       " [0, 0, 0, 0, 0]]"
      ]
     },
     "execution_count": 9,
     "metadata": {},
     "output_type": "execute_result"
    }
   ],
   "source": [
    "board = [[0 for i in range(5)] for j in range(5)]\n",
    "board"
   ]
  },
  {
   "cell_type": "code",
   "execution_count": 12,
   "id": "9bad86a7",
   "metadata": {},
   "outputs": [
    {
     "name": "stdout",
     "output_type": "stream",
     "text": [
      "1\n"
     ]
    }
   ],
   "source": [
    "for i in range(1,2):\n",
    "    print(i)"
   ]
  },
  {
   "cell_type": "code",
   "execution_count": 27,
   "id": "6ff5292b",
   "metadata": {},
   "outputs": [
    {
     "name": "stdout",
     "output_type": "stream",
     "text": [
      "[[6, 8, 26], [9, 5, 26]]\n",
      "None\n"
     ]
    }
   ],
   "source": [
    "def fun(x):\n",
    "    a=[]\n",
    "    for i in range(len(x)):\n",
    "        for j in range(i+1,len(x)):\n",
    "            for k in range(j+1,len(x)):\n",
    "                if x[i]+x[j]+x[k]==40:\n",
    "                    a.append([x[i],x[j],x[k]])\n",
    "    print(a) \n",
    "x=[6,8,9,5,4,3,26,2]\n",
    "y=fun(x)\n",
    "print(y)"
   ]
  },
  {
   "cell_type": "code",
   "execution_count": 41,
   "id": "ba07f744",
   "metadata": {},
   "outputs": [
    {
     "name": "stdout",
     "output_type": "stream",
     "text": [
      "(6, 8, 26)\n",
      "(9, 5, 26)\n",
      "(6, 5, 3, 26)\n",
      "(8, 4, 26, 2)\n",
      "(9, 3, 26, 2)\n",
      "(5, 4, 3, 26, 2)\n"
     ]
    }
   ],
   "source": [
    "arr=[6,8,9,5,4,3,26,2]\n",
    "target= 40\n",
    "ans=[s for i in range(1,len(arr)+1) for s in combinations(arr,i) if sum(s)==target]\n",
    "if ans:\n",
    "    for j in ans:\n",
    "        print(j)\n",
    "else:\n",
    "    print(\"no such sum\")\n"
   ]
  },
  {
   "cell_type": "code",
   "execution_count": 58,
   "id": "8914015c",
   "metadata": {},
   "outputs": [
    {
     "name": "stdout",
     "output_type": "stream",
     "text": [
      "6\n",
      "14\n",
      "23\n",
      "28\n",
      "32\n",
      "35\n",
      "61\n",
      "38\n",
      "64\n",
      "41\n",
      "42\n",
      "43\n",
      "47\n",
      "46\n",
      "44\n",
      "40\n",
      "42\n",
      "66\n",
      "43\n",
      "44\n",
      "45\n",
      "49\n",
      "48\n",
      "46\n"
     ]
    },
    {
     "ename": "IndexError",
     "evalue": "list index out of range",
     "output_type": "error",
     "traceback": [
      "\u001b[1;31m---------------------------------------------------------------------------\u001b[0m",
      "\u001b[1;31mIndexError\u001b[0m                                Traceback (most recent call last)",
      "Cell \u001b[1;32mIn[58], line 5\u001b[0m\n\u001b[0;32m      3\u001b[0m i\u001b[38;5;241m=\u001b[39m\u001b[38;5;241m0\u001b[39m\n\u001b[0;32m      4\u001b[0m \u001b[38;5;28;01mwhile\u001b[39;00m i\u001b[38;5;241m<\u001b[39m\u001b[38;5;241m=\u001b[39m\u001b[38;5;28mlen\u001b[39m(arr)\u001b[38;5;241m+\u001b[39m\u001b[38;5;241m1\u001b[39m:\n\u001b[1;32m----> 5\u001b[0m     s\u001b[38;5;241m+\u001b[39m\u001b[38;5;241m=\u001b[39m\u001b[43marr\u001b[49m\u001b[43m[\u001b[49m\u001b[43mi\u001b[49m\u001b[43m]\u001b[49m\n\u001b[0;32m      6\u001b[0m     \u001b[38;5;28mprint\u001b[39m(s)\n\u001b[0;32m      7\u001b[0m     \u001b[38;5;28;01mif\u001b[39;00m s\u001b[38;5;241m<\u001b[39m\u001b[38;5;241m40\u001b[39m:\n",
      "\u001b[1;31mIndexError\u001b[0m: list index out of range"
     ]
    }
   ],
   "source": [
    "x=[]\n",
    "s=0\n",
    "i=0\n",
    "while i<=len(arr)+1:\n",
    "    s+=arr[i]\n",
    "    print(s)\n",
    "    if s<40:\n",
    "        i+=1\n",
    "    elif s>40:\n",
    "        s-=arr[i]\n",
    "        i-=1\n",
    "    else:\n",
    "        x.append(arr[i])\n",
    "arr=[6,8,9,5,4,3,26,2]\n",
    "print(x)    \n",
    "\n",
    "        "
   ]
  },
  {
   "cell_type": "code",
   "execution_count": 66,
   "id": "885294b9",
   "metadata": {},
   "outputs": [
    {
     "name": "stdout",
     "output_type": "stream",
     "text": [
      "[6, 8, 26]\n",
      "[6, 5, 3, 26]\n",
      "[8, 4, 26, 2]\n",
      "[9, 5, 26]\n",
      "[9, 3, 26, 2]\n",
      "[5, 4, 3, 26, 2]\n"
     ]
    }
   ],
   "source": [
    "def fun(arr,s,lis=[]):\n",
    "    if sum(lis)==s:\n",
    "        print(lis)\n",
    "    if sum(lis)>=s:\n",
    "        return\n",
    "    for i in range(len(arr)):\n",
    "        extra=arr[i+1:]\n",
    "        fun(extra,s,lis+[arr[i]])\n",
    "arr=[6,8,9,5,4,3,26,2]\n",
    "s=40\n",
    "fun(arr,s)\n"
   ]
  },
  {
   "cell_type": "code",
   "execution_count": null,
   "id": "a04b74b9",
   "metadata": {},
   "outputs": [],
   "source": [
    "def fun(arr,s,lis=[]):\n",
    "    if sum(lis)==0:\n",
    "        print(lis)\n",
    "    if sum(lis)"
   ]
  }
 ],
 "metadata": {
  "kernelspec": {
   "display_name": "Python 3 (ipykernel)",
   "language": "python",
   "name": "python3"
  },
  "language_info": {
   "codemirror_mode": {
    "name": "ipython",
    "version": 3
   },
   "file_extension": ".py",
   "mimetype": "text/x-python",
   "name": "python",
   "nbconvert_exporter": "python",
   "pygments_lexer": "ipython3",
   "version": "3.10.9"
  }
 },
 "nbformat": 4,
 "nbformat_minor": 5
}
