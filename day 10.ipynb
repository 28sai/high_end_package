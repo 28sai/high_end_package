{
 "cells": [
  {
   "cell_type": "raw",
   "id": "aab31dc1-578b-45cb-bbbc-fff30e28deef",
   "metadata": {},
   "source": [
    "input:7564168\n",
    "seperate odd place integers : 5 4 6\n",
    "you have to return a 4 digit OTP by squaring the digits \n",
    "digits from above ex: 5 4 6\n",
    "25, 16, 36\n",
    "otp is 2516"
   ]
  },
  {
   "cell_type": "code",
   "execution_count": 15,
   "id": "036496eb-ed29-4544-b3bc-d3e8cf77fd00",
   "metadata": {},
   "outputs": [
    {
     "name": "stdin",
     "output_type": "stream",
     "text": [
      " 7564168\n"
     ]
    },
    {
     "name": "stdout",
     "output_type": "stream",
     "text": [
      "2516"
     ]
    }
   ],
   "source": [
    "n=int(input())\n",
    "n=str(n)\n",
    "x=[]\n",
    "y=[]\n",
    "z=[]\n",
    "res=\"\"\n",
    "for i in range(len(n)):\n",
    "    if i%2!=0:\n",
    "        x.append(n[i])\n",
    "for i in x:\n",
    "    i=int(i)\n",
    "    y.append(i)\n",
    "for i in y:\n",
    "    z.append(i**2)\n",
    "for i  in z:\n",
    "    res+=str(i)\n",
    "for i in range(len(res)):\n",
    "    if 0<=i<=3:\n",
    "        print(res[i],end=\"\")"
   ]
  },
  {
   "cell_type": "code",
   "execution_count": 19,
   "id": "cdce6206-d1fc-4092-9198-e417d70bc434",
   "metadata": {},
   "outputs": [
    {
     "name": "stdin",
     "output_type": "stream",
     "text": [
      " 7564168\n"
     ]
    },
    {
     "name": "stdout",
     "output_type": "stream",
     "text": [
      "2516\n"
     ]
    }
   ],
   "source": [
    "7564168\n",
    "n=input()\n",
    "s=\"\"\n",
    "for i in range(len(n)):\n",
    "    if i%2!=0:\n",
    "        a=str(int(n[i])**2)\n",
    "        s+=a\n",
    "print(s[0:4])"
   ]
  },
  {
   "cell_type": "raw",
   "id": "070d5a6f-1de9-4134-907f-a1812b346138",
   "metadata": {},
   "source": [
    "2)take the input from the user in the given format(consist of name and code)\n",
    "find the max digit from the code which is lessor equal to the length of string and put that place char in final string if there is no any digit found which not satisfy the condition that condition that simply put X \n",
    "input\n",
    "Abhishek : 43848, Mayur :3749, Friend:3949, Yeah:7878\n",
    "Output: KueX"
   ]
  },
  {
   "cell_type": "code",
   "execution_count": null,
   "id": "658576ca-1435-4e2f-b15f-fd3845c3e0eb",
   "metadata": {},
   "outputs": [],
   "source": [
    "n=input()\n",
    "res = ''\n",
    "for i in n.split(', '):\n",
    "    name,code=i.split(' : ')\n",
    "    max_digit=max(filter(lambda x: x.isdigit() and int(x) <= len(name),code),default='X')\n",
    "    res+=chr(ord('A')+int(max_digit) - 1)\n",
    "print(res)  "
   ]
  },
  {
   "cell_type": "code",
   "execution_count": 40,
   "id": "713a3b58-2395-44b1-a2c6-7dc506c8881e",
   "metadata": {},
   "outputs": [],
   "source": [
    "from collections import deque\n",
    "class Stack:\n",
    "    def __init__(self):\n",
    "        self.x=deque()\n",
    "    def push(self,ele):\n",
    "        self.x.append(ele)\n",
    "    def pop(self):\n",
    "        return self.x.pop()\n",
    "    def size(self):\n",
    "        return len(self.x)"
   ]
  },
  {
   "cell_type": "code",
   "execution_count": 73,
   "id": "26c50c4d-d721-4b09-aa88-cc14888cc3d9",
   "metadata": {},
   "outputs": [
    {
     "name": "stdin",
     "output_type": "stream",
     "text": [
      " ()()\n"
     ]
    },
    {
     "name": "stdout",
     "output_type": "stream",
     "text": [
      "0\n"
     ]
    }
   ],
   "source": [
    "def balance(s):\n",
    "    lis=Stack()\n",
    "    o=[]\n",
    "    for i in range(len(s)):\n",
    "        if s[i]=='(' or s[i]=='{' or s[i]=='[':\n",
    "            o.append(s[i])\n",
    "            lis.push(s[i])\n",
    "        if s[i]==')' or s[i]=='}' or s[i]==']':\n",
    "            if lis.size()==0:\n",
    "                return i+1\n",
    "            if not match(s[i],lis.pop()):\n",
    "                return i+1\n",
    "    if lis.size()==0:\n",
    "        return \"True\"\n",
    "    else:\n",
    "        return len(s)+1\n",
    "def match(i1,i2):\n",
    "    d={')':'(',']':'[','}':'{'}\n",
    "    return d[i1]==i2\n",
    "s=input()\n",
    "y=balance(s)\n",
    "if y==\"True\":\n",
    "    print(\"0\")\n",
    "else:\n",
    "    print(y)\n",
    "    "
   ]
  },
  {
   "cell_type": "code",
   "execution_count": 99,
   "id": "bf5e296f-b2a4-43f2-b3e3-ef8c5f818468",
   "metadata": {},
   "outputs": [],
   "source": [
    "def demo(s):\n",
    "    l=[]\n",
    "    for i in s:\n",
    "        if i.isalpha():\n",
    "            l.append(i)\n",
    "        else:\n",
    "            spc=i\n",
    "            idxspc=s.index(i)\n",
    "    l.reverse()\n",
    "    l.insert(idxspc,spc)\n",
    "    return \"\".join(l)"
   ]
  },
  {
   "cell_type": "code",
   "execution_count": 100,
   "id": "a7ef808a-b4ca-4607-aadb-29efdb740728",
   "metadata": {},
   "outputs": [
    {
     "name": "stdin",
     "output_type": "stream",
     "text": [
      " we@lcome\n"
     ]
    },
    {
     "data": {
      "text/plain": [
       "'em@oclew'"
      ]
     },
     "execution_count": 100,
     "metadata": {},
     "output_type": "execute_result"
    }
   ],
   "source": [
    "s=input()\n",
    "demo(s)"
   ]
  },
  {
   "cell_type": "code",
   "execution_count": 134,
   "id": "7090d1cc-6221-4645-8946-01e2bbb110c8",
   "metadata": {},
   "outputs": [
    {
     "name": "stdin",
     "output_type": "stream",
     "text": [
      " 2 5 1 4 3 2 7 8\n"
     ]
    },
    {
     "name": "stdout",
     "output_type": "stream",
     "text": [
      "4343\n"
     ]
    }
   ],
   "source": [
    "def fun(arr):\n",
    "    s=0\n",
    "    l=[]\n",
    "    a=\"\"\n",
    "    add=True\n",
    "    for i in arr:\n",
    "        while add:\n",
    "            if i!=4:\n",
    "                s+=i\n",
    "                break\n",
    "            else:\n",
    "                add=False\n",
    "                \n",
    "        while not add:\n",
    "            if i!=7:\n",
    "                break\n",
    "            else:\n",
    "                add=True\n",
    "                l.append(i)\n",
    "                break\n",
    "        if not add and i!=7:\n",
    "            l.append(i)\n",
    "    \n",
    "    for i in l:\n",
    "        i=str(i) \n",
    "        a+=i       \n",
    "    a=int(a)\n",
    "    return s+a\n",
    "arr=list(map(int,input().split()))\n",
    "print(fun(arr))\n"
   ]
  },
  {
   "cell_type": "code",
   "execution_count": 141,
   "id": "306392b4-bca8-4589-a9ba-6f888408c663",
   "metadata": {},
   "outputs": [
    {
     "name": "stdin",
     "output_type": "stream",
     "text": [
      " 2 5 1 4 3 2 7 8\n"
     ]
    },
    {
     "data": {
      "text/plain": [
       "4343"
      ]
     },
     "execution_count": 141,
     "metadata": {},
     "output_type": "execute_result"
    }
   ],
   "source": [
    "def fun(arr):\n",
    "    s=0\n",
    "    x=[]\n",
    "    res=\"\"\n",
    "    for i in arr:\n",
    "        i=int(i)\n",
    "        x.append(i)\n",
    "    pos=x.index(4)\n",
    "    pos2=x.index(7)\n",
    "    for i in range(pos,pos2+1):\n",
    "        res+=arr[i]\n",
    "    for i in x[:pos]:\n",
    "        s+=i\n",
    "    for i in x[pos2+1:]:\n",
    "        s+=i\n",
    "    return s+int(res)\n",
    "    \n",
    "arr=list(map(str,input().split()))\n",
    "fun(arr)\n",
    "        \n",
    "    "
   ]
  },
  {
   "cell_type": "code",
   "execution_count": 3,
   "id": "0fcd404b-5372-409e-91ea-6894f0a743a8",
   "metadata": {},
   "outputs": [
    {
     "name": "stdin",
     "output_type": "stream",
     "text": [
      " 2 3 5 7 10 12 15 20\n",
      " 19\n"
     ]
    },
    {
     "name": "stdout",
     "output_type": "stream",
     "text": [
      "4 6\n"
     ]
    }
   ],
   "source": [
    "arr=list(map(int,input().split()))\n",
    "target=int(input())\n",
    "for i in range(len(arr)):\n",
    "    for j in range(i,len(arr)):\n",
    "        if arr[i]+arr[j]==target:\n",
    "            print( i+1,j+1)\n"
   ]
  },
  {
   "cell_type": "code",
   "execution_count": 7,
   "id": "58f8628a-dee2-4fa9-8cd4-41bdbfa5935f",
   "metadata": {},
   "outputs": [
    {
     "name": "stdin",
     "output_type": "stream",
     "text": [
      " 2 3 5 7 10 12 15 20\n",
      " 19\n"
     ]
    }
   ],
   "source": [
    "arr=list(map(int,input().split()))\n",
    "target=int(input())\n",
    "i=1\n",
    "while i<len(arr):\n",
    "    if arr[0]+arr[-1]==target:\n",
    "        print(i,j)\n",
    "    else:\n",
    "        arr.pop(0)\n",
    "    i+=1\n",
    "    \n",
    "    \n",
    "    "
   ]
  },
  {
   "cell_type": "code",
   "execution_count": 14,
   "id": "e6db8f1f-fecf-46a0-9fc5-9d7e5071c2d2",
   "metadata": {
    "scrolled": true
   },
   "outputs": [
    {
     "name": "stdin",
     "output_type": "stream",
     "text": [
      " 19\n"
     ]
    },
    {
     "name": "stdout",
     "output_type": "stream",
     "text": [
      "17\n",
      "set()\n",
      "16\n",
      "{2}\n",
      "14\n",
      "{2, 3}\n",
      "12\n",
      "{2, 3, 5}\n",
      "9\n",
      "{2, 3, 5, 7}\n",
      "7\n",
      "{2, 3, 5, 7, 10}\n",
      "(4, 6)\n"
     ]
    }
   ],
   "source": [
    "# arr[i]+arr[i+1]=target     target-arr[i+1]=arr[i]\n",
    "def count_pairs(arr,target):\n",
    "    pairs=set()\n",
    "    for i in range(len(arr)):\n",
    "        j=target-arr[i]\n",
    "        if j in pairs:\n",
    "            return i-1,j-1\n",
    "        pairs.add(arr[i])\n",
    "\n",
    "arr=[2,3,5,7,10,12,15,20]\n",
    "target=int(input())\n",
    "x=count_pairs(arr,target)\n",
    "print(x)\n",
    "\n"
   ]
  },
  {
   "cell_type": "code",
   "execution_count": 16,
   "id": "7d894fec-46fa-4c1d-9f3f-f83e51a07fd8",
   "metadata": {},
   "outputs": [
    {
     "name": "stdin",
     "output_type": "stream",
     "text": [
      " 1 2 8 10 10 12 19\n",
      " 7\n"
     ]
    },
    {
     "data": {
      "text/plain": [
       "(2, 8)"
      ]
     },
     "execution_count": 16,
     "metadata": {},
     "output_type": "execute_result"
    }
   ],
   "source": [
    "def bin_search_floor(arr,target):\n",
    "    l,r=0,len(arr)-1\n",
    "    floor=-1\n",
    "    while l<=r:\n",
    "        mid=l+(r-l)//2\n",
    "        if arr[mid]==target:\n",
    "            return arr[mid]\n",
    "        elif arr[mid]<target:\n",
    "            floor=arr[mid]\n",
    "            l=mid+1\n",
    "        else:\n",
    "            r=mid-1\n",
    "            ceil=arr[mid]\n",
    "    return floor,ceil\n",
    "    \n",
    "arr=list(map(int,input().split()))\n",
    "target=int(input())\n",
    "bin_search_floor(arr,target)"
   ]
  },
  {
   "cell_type": "code",
   "execution_count": 19,
   "id": "792befbb-ee66-4a77-ad7a-c240de30c032",
   "metadata": {},
   "outputs": [
    {
     "name": "stdin",
     "output_type": "stream",
     "text": [
      " 3 1\n",
      " 1\n",
      " 1\n",
      " 1\n"
     ]
    },
    {
     "name": "stdout",
     "output_type": "stream",
     "text": [
      "1\n"
     ]
    }
   ],
   "source": [
    "n,k=map(int,input().split())\n",
    "lst=[]\n",
    "for i in range(n):\n",
    "    lst.append(int(input()))\n",
    "s,c=set(lst),0\n",
    "for i in s:\n",
    "    if lst.count(i)>=k:\n",
    "        c+=1\n",
    "print(c)"
   ]
  },
  {
   "cell_type": "code",
   "execution_count": null,
   "id": "9269f9c8-7b23-4078-ba0e-beb60ac4b31e",
   "metadata": {},
   "outputs": [],
   "source": []
  }
 ],
 "metadata": {
  "kernelspec": {
   "display_name": "Python 3 (ipykernel)",
   "language": "python",
   "name": "python3"
  },
  "language_info": {
   "codemirror_mode": {
    "name": "ipython",
    "version": 3
   },
   "file_extension": ".py",
   "mimetype": "text/x-python",
   "name": "python",
   "nbconvert_exporter": "python",
   "pygments_lexer": "ipython3",
   "version": "3.11.1"
  }
 },
 "nbformat": 4,
 "nbformat_minor": 5
}
