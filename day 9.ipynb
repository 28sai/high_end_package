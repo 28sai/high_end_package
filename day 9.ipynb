{
 "cells": [
  {
   "cell_type": "code",
   "execution_count": null,
   "id": "08e4546a",
   "metadata": {},
   "outputs": [],
   "source": []
  },
  {
   "cell_type": "code",
   "execution_count": 34,
   "id": "659a96a9-83db-4f10-b420-a7a91223dde1",
   "metadata": {},
   "outputs": [
    {
     "name": "stdin",
     "output_type": "stream",
     "text": [
      " 1 3 2 1 3 0 5 1\n"
     ]
    },
    {
     "data": {
      "text/plain": [
       "([1, 3, 1, 2, 0, 1, 0, 0], [0, 1, 4, 5, 7, 7, 8, 8], [0, 1, 1, 1, 2, 3, 3, 5])"
      ]
     },
     "execution_count": 34,
     "metadata": {},
     "output_type": "execute_result"
    }
   ],
   "source": [
    "def count(arr):\n",
    "    n=len(arr) \n",
    "    c_arr=[0]*n  \n",
    "    u_arr=[0]*n\n",
    "    res_arr=[0]*n\n",
    "    for i in range(len(arr)):\n",
    "        c_arr[arr[i]]+=1\n",
    "    #2nd step done\n",
    "    u_arr[i-1]=0\n",
    "    for i in range(len(u_arr)):\n",
    "        u_arr[i]=u_arr[i-1]+c_arr[i]\n",
    "    #3rd step done\n",
    "    for i in range(len(arr)-1,-1,-1): \n",
    "        u_arr_val=arr[i]\n",
    "        u_arr[u_arr_val]-=1\n",
    "        res_arr[u_arr[u_arr_val]]=arr[i]\n",
    "    #4th step done\n",
    "    return c_arr,u_arr,res_arr\n",
    "arr=list(map(int, input().split()))\n",
    "count(arr)\n"
   ]
  },
  {
   "cell_type": "code",
   "execution_count": 39,
   "id": "680fff29-9c68-4071-8ab7-cb38d2c82bbf",
   "metadata": {},
   "outputs": [
    {
     "name": "stdin",
     "output_type": "stream",
     "text": [
      " 1 3 2 1 3 0 5 1\n"
     ]
    },
    {
     "data": {
      "text/plain": [
       "[0, 1, 1, 1, 2, 3, 3, 5]"
      ]
     },
     "execution_count": 39,
     "metadata": {},
     "output_type": "execute_result"
    }
   ],
   "source": [
    "#with 2 arrays (without u_arr)\n",
    "def count(arr):\n",
    "    n=len(arr) \n",
    "    c_arr=[0]*n  \n",
    "    res_arr=[0]*n\n",
    "    for i in range(len(arr)):\n",
    "        c_arr[arr[i]]+=1\n",
    "    #2nd step done\n",
    "    c_arr[i-1]=0\n",
    "    for i in range(len(c_arr)):\n",
    "        c_arr[i]=c_arr[i-1]+c_arr[i]\n",
    "    #3rd step done\n",
    "    for i in range(len(arr)-1,-1,-1): \n",
    "        c_arr_val=arr[i]\n",
    "        c_arr[c_arr_val]-=1\n",
    "        res_arr[c_arr[c_arr_val]]=arr[i]\n",
    "    #4th step done\n",
    "    return res_arr\n",
    "arr=list(map(int, input().split()))\n",
    "count(arr)\n"
   ]
  },
  {
   "cell_type": "code",
   "execution_count": 61,
   "id": "e77e6bf1-885c-4c7e-b668-d1cb6246700f",
   "metadata": {},
   "outputs": [
    {
     "name": "stdin",
     "output_type": "stream",
     "text": [
      " 23 56 34 98 59\n",
      " 90\n"
     ]
    },
    {
     "name": "stdout",
     "output_type": "stream",
     "text": [
      "element not found\n"
     ]
    }
   ],
   "source": [
    "#linear seach\n",
    "def linear(arr,target):\n",
    "    x=0\n",
    "    for i in range(len(arr)):\n",
    "        if arr[i]==target:\n",
    "            x=1\n",
    "            return i\n",
    "    if x==0:\n",
    "        return -1\n",
    "arr=list(map(int,input().split()))\n",
    "target=int(input())\n",
    "y=linear(arr,target)\n",
    "if y==-1:\n",
    "    print(\"element not found\")\n",
    "else:\n",
    "    print(\"element found at\",y,\"index\")"
   ]
  },
  {
   "cell_type": "code",
   "execution_count": 69,
   "id": "b15e5ef3-d015-4155-a169-d98ad8946445",
   "metadata": {},
   "outputs": [
    {
     "name": "stdin",
     "output_type": "stream",
     "text": [
      " 1 2 3 4 5 6\n",
      " 6\n"
     ]
    },
    {
     "name": "stdout",
     "output_type": "stream",
     "text": [
      "found at 5 th index\n"
     ]
    }
   ],
   "source": [
    "def binary(arr,target):\n",
    "    i=0\n",
    "    j=len(arr)-1\n",
    "    while i<=j:\n",
    "        mid=(i+j)//2\n",
    "        \n",
    "        if target==arr[mid]:\n",
    "            print(\"found at\",mid,\"th index\")\n",
    "            return\n",
    "        elif target<arr[mid]:\n",
    "            j=mid-1\n",
    "        else:\n",
    "            i=mid+1\n",
    "    print(\"not found\")\n",
    "arr=list(map(int,input().split()))\n",
    "target=int(input())\n",
    "binary(arr,target)\n",
    "            "
   ]
  },
  {
   "cell_type": "code",
   "execution_count": null,
   "id": "26e86372-26a0-4832-99a5-27e55446329c",
   "metadata": {},
   "outputs": [],
   "source": [
    "#simplified masters theorem\n"
   ]
  },
  {
   "cell_type": "code",
   "execution_count": null,
   "id": "43d1207b-b4a1-4fee-8f3b-31361885c35c",
   "metadata": {},
   "outputs": [],
   "source": [
    "3 cases\n"
   ]
  },
  {
   "cell_type": "code",
   "execution_count": null,
   "id": "fad27010-cbeb-40d4-bb62-c67373799c2e",
   "metadata": {},
   "outputs": [],
   "source": [
    "1)T(n)=3T(n/2)+n^2\n",
    "2)T(n)=4T(n/2)+n^2\n",
    "3)T(n)=T(n/2)+n^2\n",
    "4)T(n)=16T(n/4)+n\n",
    "5)T(n)=2T(n/2)+nlogn\n",
    "6)T(n)=2T(n/2)+nlogn\n",
    "7)T(n)=2T(n/4)+n\n",
    "8)T(n)=nT(n/4)+n\n",
    "9)T(n)=3T(n/3)+sqrt(n)\n",
    "10)T(n)=0.5T(n/2)+1/n"
   ]
  },
  {
   "cell_type": "code",
   "execution_count": 3,
   "id": "87f7ec4c-6244-4ed2-979c-0194011ff36a",
   "metadata": {},
   "outputs": [
    {
     "ename": "TypeError",
     "evalue": "'int' object is not subscriptable",
     "output_type": "error",
     "traceback": [
      "\u001b[1;31m---------------------------------------------------------------------------\u001b[0m",
      "\u001b[1;31mTypeError\u001b[0m                                 Traceback (most recent call last)",
      "Cell \u001b[1;32mIn[3], line 2\u001b[0m\n\u001b[0;32m      1\u001b[0m x\u001b[38;5;241m=\u001b[39m[\u001b[38;5;241m1\u001b[39m,\u001b[38;5;241m2\u001b[39m,\u001b[38;5;241m3\u001b[39m]\n\u001b[1;32m----> 2\u001b[0m \u001b[43mx\u001b[49m\u001b[43m[\u001b[49m\u001b[38;5;241;43m-\u001b[39;49m\u001b[38;5;241;43m1\u001b[39;49m\u001b[43m]\u001b[49m\u001b[43m[\u001b[49m\u001b[38;5;241;43m1\u001b[39;49m\u001b[43m]\u001b[49m\n",
      "\u001b[1;31mTypeError\u001b[0m: 'int' object is not subscriptable"
     ]
    }
   ],
   "source": [
    "x=[1,2,3]\n",
    "x[-1][1]"
   ]
  },
  {
   "cell_type": "code",
   "execution_count": null,
   "id": "c9b1ed42-436a-4926-8900-4908b3876ae4",
   "metadata": {},
   "outputs": [],
   "source": []
  }
 ],
 "metadata": {
  "kernelspec": {
   "display_name": "Python 3 (ipykernel)",
   "language": "python",
   "name": "python3"
  },
  "language_info": {
   "codemirror_mode": {
    "name": "ipython",
    "version": 3
   },
   "file_extension": ".py",
   "mimetype": "text/x-python",
   "name": "python",
   "nbconvert_exporter": "python",
   "pygments_lexer": "ipython3",
   "version": "3.11.1"
  }
 },
 "nbformat": 4,
 "nbformat_minor": 5
}
