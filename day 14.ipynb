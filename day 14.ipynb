{
 "cells": [
  {
   "cell_type": "markdown",
   "id": "ff05645d",
   "metadata": {},
   "source": [
    "# 7faith and expectation"
   ]
  },
  {
   "cell_type": "code",
   "execution_count": 4,
   "id": "40e7acbb",
   "metadata": {},
   "outputs": [
    {
     "name": "stdout",
     "output_type": "stream",
     "text": [
      "(1, 2, 3)\n",
      "(1, 3, 2)\n",
      "(2, 1, 3)\n",
      "(2, 3, 1)\n",
      "(3, 1, 2)\n",
      "(3, 2, 1)\n"
     ]
    }
   ],
   "source": [
    "from itertools import permutations\n",
    "arr=[1,2,3]\n",
    "lst=permutations(arr)\n",
    "for i in lst:\n",
    "    print(i)\n",
    "    "
   ]
  },
  {
   "cell_type": "code",
   "execution_count": 21,
   "id": "19f23f1d",
   "metadata": {},
   "outputs": [
    {
     "name": "stdout",
     "output_type": "stream",
     "text": [
      "[1]\n",
      "[2]\n",
      "ans [[2, 3]]\n",
      "[3]\n",
      "ans [[2, 3], [3, 2]]\n",
      "ans [[1, 2, 3]]\n",
      "ans [[1, 2, 3], [1, 3, 2]]\n",
      "[2]\n",
      "[1]\n",
      "ans [[1, 3]]\n",
      "[3]\n",
      "ans [[1, 3], [3, 1]]\n",
      "ans [[1, 2, 3], [1, 3, 2], [2, 1, 3]]\n",
      "ans [[1, 2, 3], [1, 3, 2], [2, 1, 3], [2, 3, 1]]\n",
      "[3]\n",
      "[1]\n",
      "ans [[1, 2]]\n",
      "[2]\n",
      "ans [[1, 2], [2, 1]]\n",
      "ans [[1, 2, 3], [1, 3, 2], [2, 1, 3], [2, 3, 1], [3, 1, 2]]\n",
      "ans [[1, 2, 3], [1, 3, 2], [2, 1, 3], [2, 3, 1], [3, 1, 2], [3, 2, 1]]\n"
     ]
    },
    {
     "data": {
      "text/plain": [
       "[[1, 2, 3], [1, 3, 2], [2, 1, 3], [2, 3, 1], [3, 1, 2], [3, 2, 1]]"
      ]
     },
     "execution_count": 21,
     "metadata": {},
     "output_type": "execute_result"
    }
   ],
   "source": [
    "def permute(arr):\n",
    "    if len(arr)==1:\n",
    "        return [arr]\n",
    "    ans=[]\n",
    "    for i in range(len(arr)):\n",
    "        x=[arr[i]]\n",
    "        print(x)\n",
    "        n_arr=arr[:i]+arr[i+1:]\n",
    "        for i in permute(n_arr):\n",
    "            ans.append(x+i)\n",
    "            print(\"ans\",ans)\n",
    "    return ans\n",
    "permute([1,2,3])"
   ]
  },
  {
   "cell_type": "code",
   "execution_count": 27,
   "id": "7d7d3865",
   "metadata": {},
   "outputs": [
    {
     "data": {
      "text/plain": [
       "[[[0, 0, 0, 0]], [[0, 0, 0, 0]], [[0, 0, 0, 0]], [[0, 0, 0, 0]]]"
      ]
     },
     "execution_count": 27,
     "metadata": {},
     "output_type": "execute_result"
    }
   ],
   "source": [
    "def nqueen(n):\n",
    "    b=[[[0]*n] for i in range(n)]\n",
    "    for i in range(len(b))\n",
    "nqueen(4)"
   ]
  },
  {
   "cell_type": "code",
   "execution_count": 11,
   "id": "a674765a",
   "metadata": {},
   "outputs": [
    {
     "name": "stdin",
     "output_type": "stream",
     "text": [
      " 4\n"
     ]
    },
    {
     "name": "stdout",
     "output_type": "stream",
     "text": [
      "0 1 0 0 \n",
      "0 0 0 1 \n",
      "1 0 0 0 \n",
      "0 0 1 0 \n",
      "\n",
      "0 0 1 0 \n",
      "1 0 0 0 \n",
      "0 0 0 1 \n",
      "0 1 0 0 \n",
      "\n"
     ]
    }
   ],
   "source": [
    "def solve_n_queen(n,board,row,col,diag,rev_diag,asf):\n",
    "    if row==n:\n",
    "        # print(asf)\n",
    "        for i in range(n):\n",
    "            for j in range(n):\n",
    "                print(board[i][j],end=\" \")\n",
    "            print()\n",
    "        print()\n",
    "        return\n",
    "    for i in range(n):\n",
    "        if col[i]==0 and diag[row-i+n-1]==0 and rev_diag[row+i]==0:\n",
    "            board[row][i]=1\n",
    "            col[i]=1\n",
    "            diag[row-i+n-1]=1\n",
    "            rev_diag[row+i]=1\n",
    "            asf+=str(row)+\" \"+str(i)+\" \"\n",
    "            #some wrk here\n",
    "            solve_n_queen(n,board,row+1,col,diag,rev_diag,asf)\n",
    "            # Reverse your work here\n",
    "            board[row][i]=0\n",
    "            col[i]=0\n",
    "            diag[row-i+n-1]=0\n",
    "            rev_diag[row+i]=0\n",
    "            asf=asf[:-4]\n",
    "\n",
    "n=int(input())\n",
    "board=[[0]*n for _ in range(n)]\n",
    "col=[0]*n\n",
    "diag=[0]*(2*n-1)\n",
    "rev_diag=[0]*(2*n-1)\n",
    "asf=\"\"\n",
    "solve_n_queen(n,board,0,col,diag,rev_diag,asf)\n"
   ]
  },
  {
   "cell_type": "code",
   "execution_count": 12,
   "id": "1b262026",
   "metadata": {},
   "outputs": [
    {
     "name": "stdout",
     "output_type": "stream",
     "text": [
      "dict_values([['eat', 'tea', 'ate'], ['nat', 'tan'], ['bat']])\n"
     ]
    }
   ],
   "source": [
    "from collections import defaultdict\n",
    "words = ['eat', 'tea', 'ate', 'nat', 'tan', 'bat']\n",
    "anagram_dict = defaultdict(list)\n",
    "for word in words:\n",
    "    sorted_word = ''.join(sorted(word))\n",
    "    anagram_dict[sorted_word].append(word)\n",
    "print(anagram_dict.values())"
   ]
  },
  {
   "cell_type": "code",
   "execution_count": 13,
   "id": "6288c5df",
   "metadata": {},
   "outputs": [
    {
     "name": "stdout",
     "output_type": "stream",
     "text": [
      "eat tea ate\n",
      "nat tan\n",
      "bat\n"
     ]
    }
   ],
   "source": [
    "words = ['eat', 'tea', 'ate', 'nat', 'tan', 'bat']\t\n",
    "anagram_dict = {}\n",
    "for word in words:\n",
    "    sorted_word = ''.join(sorted(word))\n",
    "    if sorted_word in anagram_dict:\n",
    "        anagram_dict[sorted_word].append(word)\n",
    "    else:\n",
    "        anagram_dict[sorted_word] = [word]\n",
    "for anagram_group in anagram_dict.values():\n",
    "    print(' '.join(anagram_group))\n"
   ]
  },
  {
   "cell_type": "code",
   "execution_count": 25,
   "id": "7b44b5f9-b6cc-4088-ac85-49d183a1afb7",
   "metadata": {},
   "outputs": [
    {
     "name": "stdin",
     "output_type": "stream",
     "text": [
      " 3\n"
     ]
    },
    {
     "name": "stdout",
     "output_type": "stream",
     "text": [
      "A C\n",
      "2 A B\n",
      "C B\n",
      "3 A C\n",
      "B A\n",
      "2 B C\n",
      "A C\n"
     ]
    }
   ],
   "source": [
    "def tower_of_hanoi(disks,src,aux,target):  \n",
    "    if(disks==1):  \n",
    "        print(src,target)  \n",
    "        return  \n",
    "    tower_of_hanoi(disks-1,src,target,aux)  \n",
    "    print(disks,src,target)\n",
    "    tower_of_hanoi(disks-1,aux,src,target)  \n",
    "disks=int(input())  \n",
    "tower_of_hanoi(disks, 'A', 'B', 'C') "
   ]
  },
  {
   "cell_type": "code",
   "execution_count": 34,
   "id": "7e6cf9d2-f845-4fd5-8e74-4a4984a55d2f",
   "metadata": {},
   "outputs": [
    {
     "data": {
      "text/plain": [
       "7"
      ]
     },
     "execution_count": 34,
     "metadata": {},
     "output_type": "execute_result"
    }
   ],
   "source": [
    "def stairs(n):\n",
    "    if n==1:\n",
    "        return 1\n",
    "    if n<=0:\n",
    "        return 0\n",
    "    return stairs(n-1)+stairs(n-2)+stairs(n-3)\n",
    "stairs(5)"
   ]
  },
  {
   "cell_type": "code",
   "execution_count": 43,
   "id": "d59d832b-131d-47a5-b232-98321776747f",
   "metadata": {},
   "outputs": [],
   "source": [
    "def solve_n_queen(n,board,row,col,diag,rev_diag,asf):\n",
    "    if row == len(board[0]):\n",
    "        print(asf)\n",
    "    for i in range(n):\n",
    "        if col[i] == 0 and diag[row+i] == 0 and rev_diag[row+i+n-1]==0:\n",
    "            board[row][i] = 1\n",
    "            col[i] = 1\n",
    "            diag[row+i] = 1\n",
    "            rev_diag[row-i+n-1]=1\n",
    "            asf+=str(row)+\" \"+str(i)+\" \"\n",
    "\n",
    "            solve_n_queen(n,board,row,col,diag,rev_diag,asf)\n",
    "            col[i]=0\n",
    "            diag[row+i]=0\n",
    "            rev_diag[row-i+n-1]=0\n",
    "            asf=asf[:-4]\n",
    "def main():\n",
    "     n = 4\n",
    "     board = [[0 for i in range(n)] for j in range(n)]\n",
    "     col = [0 for i in range(n)]\n",
    "     diag = [0 for i in range(2*n-1)]\n",
    "     rev_diag = [0 for i in range(2*n-1)]\n",
    "     solve_n_queen(n,board,0,col,diag,rev_diag,\" \")\n",
    "main()     \n",
    "     \n",
    "            #reverse your work"
   ]
  },
  {
   "cell_type": "code",
   "execution_count": 54,
   "id": "a8c4442d-8f2b-430e-9056-5693a9b4fa33",
   "metadata": {},
   "outputs": [
    {
     "name": "stdin",
     "output_type": "stream",
     "text": [
      " 5\n"
     ]
    },
    {
     "data": {
      "text/plain": [
       "7"
      ]
     },
     "execution_count": 54,
     "metadata": {},
     "output_type": "execute_result"
    }
   ],
   "source": [
    "def fibo(n):\n",
    "    ls=[0, 1]\n",
    "    for i in range(2, n):\n",
    "        next_num = ls[i-1] + ls[i-2]\n",
    "        ls.append(next_num)\n",
    "    return sum(ls)\n",
    "n=int(input())\n",
    "fibo(n)\n"
   ]
  },
  {
   "cell_type": "code",
   "execution_count": 70,
   "id": "bd484a8e-18ae-4cb1-824a-cec103a17f98",
   "metadata": {},
   "outputs": [
    {
     "name": "stdin",
     "output_type": "stream",
     "text": [
      " 5\n"
     ]
    },
    {
     "name": "stdout",
     "output_type": "stream",
     "text": [
      "7\n"
     ]
    }
   ],
   "source": [
    "def fiboacci(num):\n",
    "    if num<=1:\n",
    "        return num\n",
    "    if num==2:\n",
    "        return 1\n",
    "    else:  \n",
    "        return(fiboacci(num-1) +fiboacci(num-2))  \n",
    "nums = int(input())\n",
    "x=[]\n",
    "for i in range(nums):\n",
    "    x.append(fiboacci(i))\n",
    "print(sum(x))\n"
   ]
  },
  {
   "cell_type": "code",
   "execution_count": 65,
   "id": "bd8401f6-9196-436a-b13b-536f154de571",
   "metadata": {},
   "outputs": [
    {
     "data": {
      "text/plain": [
       "13"
      ]
     },
     "execution_count": 65,
     "metadata": {},
     "output_type": "execute_result"
    }
   ],
   "source": [
    "def fibo(n):\n",
    "    if n==0:\n",
    "        return 0\n",
    "    if n==1:\n",
    "        return 1\n",
    "    else:\n",
    "        return fibo(n-1)+fibo(n-2)\n",
    "fibo(7)"
   ]
  },
  {
   "cell_type": "code",
   "execution_count": 11,
   "id": "39caf785-79b5-4d77-9855-aaf20830dc52",
   "metadata": {},
   "outputs": [
    {
     "name": "stdout",
     "output_type": "stream",
     "text": [
      "5\n",
      "7\n"
     ]
    }
   ],
   "source": [
    "def fibonacci_sum(n):\n",
    "    if n<=0:\n",
    "        return 0\n",
    "    a,b=0,1\n",
    "    for i in range(2,n+2):\n",
    "        a,b=b,a+b\n",
    "    return b-1\n",
    "nums=int(input())\n",
    "x=fibonacci_sum(nums)\n",
    "print(x)\n"
   ]
  },
  {
   "cell_type": "code",
   "execution_count": 6,
   "id": "14d650df-eadc-4145-8510-d1aff7286b91",
   "metadata": {},
   "outputs": [
    {
     "name": "stdout",
     "output_type": "stream",
     "text": [
      "5\n",
      "7\n"
     ]
    }
   ],
   "source": [
    "def fiboc(n,curr=0,nxt=1, sum=0):\n",
    "    if n<=0:\n",
    "        return sum\n",
    "    return fiboc(n-1,nxt,curr+nxt,sum+curr)\n",
    "nums = int(input())\n",
    "x=fiboc(nums)\n",
    "print(x)\n"
   ]
  },
  {
   "cell_type": "code",
   "execution_count": 10,
   "id": "840156a7-f599-487d-b416-73b0010f6aad",
   "metadata": {},
   "outputs": [
    {
     "name": "stdout",
     "output_type": "stream",
     "text": [
      "7\n",
      "13\n"
     ]
    }
   ],
   "source": [
    "def fib(n):\n",
    "    a=\n",
    "    b=1\n",
    "    count=1\n",
    "    while count<n:\n",
    "        c=a+b\n",
    "        a=b\n",
    "        b=c\n",
    "        count+=1\n",
    "\n",
    "    return b\n",
    "n=int(input())\n",
    "print(fib(n))"
   ]
  },
  {
   "cell_type": "raw",
   "id": "54d9f764-8678-44c9-b4d3-1bb0a210dfd6",
   "metadata": {},
   "source": [
    "Constructors in Python is a special class method for creating and initializing an object instance at that class. In Python every class has a constructor; it's not required to define explicitly. The purpose of the constructor is to construct an object and assign a value to the object's members."
   ]
  },
  {
   "cell_type": "code",
   "execution_count": 16,
   "id": "148916ad",
   "metadata": {},
   "outputs": [
    {
     "name": "stdout",
     "output_type": "stream",
     "text": [
      "10-->20-->30\n",
      "20-->30\n",
      "30-->20-->"
     ]
    }
   ],
   "source": [
    "#method-2\n",
    "class Node:\n",
    "    def __init__(self,data):\n",
    "        self.data=data\n",
    "        self.next=None\n",
    "class Stack:\n",
    "    def __init__(self):\n",
    "        self.head=None\n",
    "    def push(self,data):\n",
    "        if self.head is None:\n",
    "            self.head=Node(data)\n",
    "        else:\n",
    "            newnode=Node(data)\n",
    "            newnode.next=self.head\n",
    "            self.head=newnode\n",
    "    def pop(self):\n",
    "        if self.head is None:\n",
    "            return None\n",
    "        else:\n",
    "            popped=self.head.data\n",
    "            self.head=self.head.next\n",
    "            return popped\n",
    "    def display(self):\n",
    "        if self.head is None:\n",
    "            print(\"stack is empty\")\n",
    "        else:\n",
    "            curr=self.head\n",
    "            while curr.next:\n",
    "                print(curr.data,end=\"-->\")\n",
    "                curr=curr.next\n",
    "            print(curr.data)\n",
    "    \n",
    "\n",
    "    def reverse_display(self):\n",
    "        if self.head is None:\n",
    "            print(\"empty\")\n",
    "            return\n",
    "        stack=[]\n",
    "        curr=self.head\n",
    "        while curr:\n",
    "            stack.append(curr.data)\n",
    "            curr=curr.next\n",
    "        while stack:\n",
    "            print(stack.pop(),end=\"-->\")\n",
    "            \n",
    "            \n",
    "            \n",
    "obj=Stack()\n",
    "n=Node(10)\n",
    "obj.head=n\n",
    "n1=Node(20)\n",
    "obj.head.next=n1\n",
    "n2=Node(30)\n",
    "n1.next=n2\n",
    "obj.display()\n",
    "obj.pop()\n",
    "obj.display()\n",
    "obj.reverse_display()\n",
    "\n"
   ]
  },
  {
   "cell_type": "code",
   "execution_count": 29,
   "id": "7f6eb5f6",
   "metadata": {},
   "outputs": [
    {
     "ename": "NameError",
     "evalue": "name 'self' is not defined",
     "output_type": "error",
     "traceback": [
      "\u001b[1;31m---------------------------------------------------------------------------\u001b[0m",
      "\u001b[1;31mNameError\u001b[0m                                 Traceback (most recent call last)",
      "Cell \u001b[1;32mIn[29], line 23\u001b[0m\n\u001b[0;32m     21\u001b[0m             \u001b[38;5;28mself\u001b[39m\u001b[38;5;241m.\u001b[39mhead\u001b[38;5;241m=\u001b[39m\u001b[38;5;28mself\u001b[39m\u001b[38;5;241m.\u001b[39mhead\u001b[38;5;241m.\u001b[39mdata\n\u001b[0;32m     22\u001b[0m obj\u001b[38;5;241m=\u001b[39mStack\n\u001b[1;32m---> 23\u001b[0m head\u001b[38;5;241m=\u001b[39m\u001b[43mobj\u001b[49m\u001b[38;5;241;43m.\u001b[39;49m\u001b[43mcreate\u001b[49m\u001b[43m(\u001b[49m\u001b[43m)\u001b[49m\n",
      "Cell \u001b[1;32mIn[29], line 11\u001b[0m, in \u001b[0;36mStack.create\u001b[1;34m()\u001b[0m\n\u001b[0;32m      9\u001b[0m \u001b[38;5;28;01mfor\u001b[39;00m i \u001b[38;5;129;01min\u001b[39;00m \u001b[38;5;28mrange\u001b[39m(\u001b[38;5;241m10\u001b[39m):\n\u001b[0;32m     10\u001b[0m     newnode\u001b[38;5;241m=\u001b[39mNode(i)\n\u001b[1;32m---> 11\u001b[0m     \u001b[38;5;28;01mif\u001b[39;00m \u001b[38;5;28;43mself\u001b[39;49m\u001b[38;5;241m.\u001b[39mhead \u001b[38;5;129;01mis\u001b[39;00m \u001b[38;5;28;01mNone\u001b[39;00m:\n\u001b[0;32m     12\u001b[0m         \u001b[38;5;28mself\u001b[39m\u001b[38;5;241m.\u001b[39mhead\u001b[38;5;241m=\u001b[39mnewnode\n\u001b[0;32m     13\u001b[0m         temp\u001b[38;5;241m=\u001b[39m\u001b[38;5;28mself\u001b[39m\u001b[38;5;241m.\u001b[39mhead\n",
      "\u001b[1;31mNameError\u001b[0m: name 'self' is not defined"
     ]
    }
   ],
   "source": [
    "class Node:\n",
    "    def __init__(self,data):\n",
    "        self.data=data\n",
    "        self.next=None\n",
    "class Stack:\n",
    "    def __init__(self):\n",
    "        self.head=None\n",
    "    def create():\n",
    "        for i in range(10):\n",
    "            newnode=Node(i)\n",
    "            if self.head is None:\n",
    "                self.head=newnode\n",
    "                temp=self.head\n",
    "            else:\n",
    "                self.temp=newnode\n",
    "                self.temp=temp.next\n",
    "        return self.head\n",
    "    def print_list(self):\n",
    "        while self.head.next:\n",
    "            print(self.head.data,end=\" \")\n",
    "            self.head=self.head.data\n",
    "obj=Stack\n",
    "head=obj.create()"
   ]
  },
  {
   "cell_type": "code",
   "execution_count": 71,
   "id": "17c4a977-bd99-4580-8d4e-cd5176dabc97",
   "metadata": {},
   "outputs": [
    {
     "name": "stdout",
     "output_type": "stream",
     "text": [
      "1->2->3->4->5->6\n",
      "6->5->4->3->2->1\n"
     ]
    }
   ],
   "source": [
    "class Node:\n",
    "    def __init__(self,data):\n",
    "        self.data=data  \n",
    "        self.next=None\n",
    "class SLL:\n",
    "    def __init__(self):\n",
    "        self.head=None\n",
    "    def display(self):\n",
    "        if self.head is None:   \n",
    "            print(\"empty\")\n",
    "        else:\n",
    "            currentnode=self.head\n",
    "            while currentnode.next:\n",
    "                print(currentnode.data, end=\"->\")\n",
    "                currentnode=currentnode.next\n",
    "            print(currentnode.data)\n",
    "\n",
    "    \n",
    "    def push(self, data):\n",
    "        newnode= Node(data)\n",
    "        newnode.next=self.head\n",
    "        self.head=newnode\n",
    "           \n",
    "    def find_median(self):\n",
    "        if self.head is None:\n",
    "            return None\n",
    "\n",
    "        #length\n",
    "        currentnode=self.head\n",
    "        c=0\n",
    "        while currentnode:\n",
    "            c+=1\n",
    "            currentnode=currentnode.next  \n",
    "\n",
    "        #median\n",
    "        middle=c//2\n",
    "        currentnode=self.head\n",
    "        for i in range(middle):\n",
    "            currentnode=currentnode.next\n",
    "        if c%2!=0:\n",
    "            return currentnode.data\n",
    "        else:\n",
    "            return (currentnode.data-1,currentnode.data )\n",
    "    \n",
    "    \n",
    "\n",
    "    def reverse(self):\n",
    "        prev=None\n",
    "        currentnode=self.head\n",
    "        while currentnode:\n",
    "            nxt=currentnode.next\n",
    "            currentnode.next=prev\n",
    "            prev=currentnode\n",
    "            currentnode=nxt\n",
    "        self.head=prev\n",
    "            \n",
    "obj=SLL()\n",
    "n=Node(1)\n",
    "obj.head=n\n",
    "n1=Node(2)\n",
    "\n",
    "obj.head.next=n1\n",
    "n2=Node(3)\n",
    "\n",
    "n1.next=n2\n",
    "n3=Node(4)\n",
    "\n",
    "n2.next=n3\n",
    "n4=Node(5)\n",
    "n3.next=n4\n",
    "n5=Node(6)\n",
    "n4.next=n5\n",
    "n5=Node(7)\n",
    "n5.next=n6\n",
    "obj.display()\n",
    "obj.find_median()\n",
    "obj.reverse()\n",
    "obj.display()\n"
   ]
  },
  {
   "cell_type": "code",
   "execution_count": null,
   "id": "c7558efa-ba71-4e1f-af7e-0e5454bc8831",
   "metadata": {},
   "outputs": [],
   "source": []
  },
  {
   "cell_type": "code",
   "execution_count": null,
   "id": "166ae2e5-301d-4a5a-a669-9abe791f13c1",
   "metadata": {},
   "outputs": [],
   "source": []
  },
  {
   "cell_type": "code",
   "execution_count": null,
   "id": "9f7e89e9-2075-47a1-a273-ee26bacd85bf",
   "metadata": {},
   "outputs": [],
   "source": []
  },
  {
   "cell_type": "code",
   "execution_count": null,
   "id": "7be82282-ebfa-4a2e-b94d-8a4fd6251d2e",
   "metadata": {},
   "outputs": [],
   "source": []
  },
  {
   "cell_type": "code",
   "execution_count": null,
   "id": "796c1c4c-6022-45b2-bd09-fd5368f61cfb",
   "metadata": {},
   "outputs": [],
   "source": []
  },
  {
   "cell_type": "code",
   "execution_count": null,
   "id": "b20c75d3-0977-4a60-b940-bc6441eebd66",
   "metadata": {},
   "outputs": [],
   "source": []
  }
 ],
 "metadata": {
  "kernelspec": {
   "display_name": "Python 3 (ipykernel)",
   "language": "python",
   "name": "python3"
  },
  "language_info": {
   "codemirror_mode": {
    "name": "ipython",
    "version": 3
   },
   "file_extension": ".py",
   "mimetype": "text/x-python",
   "name": "python",
   "nbconvert_exporter": "python",
   "pygments_lexer": "ipython3",
   "version": "3.11.1"
  }
 },
 "nbformat": 4,
 "nbformat_minor": 5
}
