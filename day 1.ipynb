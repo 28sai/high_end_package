{
 "cells": [
  {
   "cell_type": "code",
   "execution_count": 1,
   "id": "1b2b7edb",
   "metadata": {},
   "outputs": [
    {
     "name": "stdout",
     "output_type": "stream",
     "text": [
      "1000.0\n",
      "104000.0\n",
      "79000.0\n",
      "790.0\n",
      "3160.0\n",
      "92160.0\n",
      "3686.4\n",
      "95846.4\n"
     ]
    }
   ],
   "source": [
    "'''Swajith is having 1lakh in is bank account,Rate of interest is 12% per annum in the 5th month \n",
    "swajith is \n",
    "withdrwaing 25k rupees inordered to buy a gift to is loved one.In 9th month 10k Rs is going to be \n",
    "deposited\n",
    "End of the financial year how much swajith is having in his account (simple interest)'''\n",
    "p=100000\n",
    "R=12\n",
    "x=(R/12)*(1/100)\n",
    "PerLakh=x*p\n",
    "print(PerLakh)\n",
    "m=p+(PerLakh*4)\n",
    "print(m)\n",
    "In5=m-25000\n",
    "print(In5)\n",
    "OnePfrom5th=In5*x\n",
    "print(OnePfrom5th)\n",
    "Add=(4*OnePfrom5th)\n",
    "print(Add)\n",
    "In8=In5+Add+10000\n",
    "print(In8)\n",
    "Upto12=In8*x*4\n",
    "print(Upto12)\n",
    "print(In8+Upto12)"
   ]
  },
  {
   "cell_type": "code",
   "execution_count": 2,
   "id": "8ec7bb07",
   "metadata": {},
   "outputs": [
    {
     "name": "stdout",
     "output_type": "stream",
     "text": [
      "Enter the actual amount:500\n",
      "Enter the Rate of Interest:4\n",
      "Enter the Time in months:6\n",
      "0.006666666666666666\n",
      "Upto 4th month =  513.3333333333334\n",
      "After withdrawing 25k= -24486.666666666668\n",
      "-25139.644444444446\n"
     ]
    }
   ],
   "source": [
    "Actual=int(input(\"Enter the actual amount:\"))\n",
    "ROI=int(input(\"Enter the Rate of Interest:\"))\n",
    "Time=int(input(\"Enter the Time in months:\"))\n",
    "Percentage=(ROI/Time)*(1/100)\n",
    "print(Percentage)\n",
    "upto4=Actual+(Percentage*Actual*4)\n",
    "print(\"Upto 4th month = \",upto4)\n",
    "At5th=upto4-25000\n",
    "print(\"After withdrawing 25k=\",At5th)\n",
    "Per_At5th=At5th+(Percentage*At5th*4)\n",
    "print(Per_At5th)"
   ]
  },
  {
   "cell_type": "code",
   "execution_count": 3,
   "id": "765cb8a0",
   "metadata": {},
   "outputs": [
    {
     "name": "stdout",
     "output_type": "stream",
     "text": [
      "56\n",
      "Total: -16537.28\n"
     ]
    }
   ],
   "source": [
    "p=int(input())\n",
    "SI1=(p*(4/12)*12)/100\n",
    "p-=25000\n",
    "SI2=(p*(4/12)*12)/100\n",
    "p+=10000\n",
    "SI3=(p*(4/12)*12)/100\n",
    "p=p+SI1+SI2+SI3\n",
    "print(\"Total:\",p)"
   ]
  },
  {
   "cell_type": "code",
   "execution_count": 4,
   "id": "8f8de5a1",
   "metadata": {},
   "outputs": [
    {
     "name": "stdout",
     "output_type": "stream",
     "text": [
      "1164178489584\n"
     ]
    }
   ],
   "source": [
    "a=1\n",
    "print(id(a))# to find memory address"
   ]
  },
  {
   "cell_type": "code",
   "execution_count": 5,
   "id": "8d444ef8",
   "metadata": {},
   "outputs": [
    {
     "name": "stdout",
     "output_type": "stream",
     "text": [
      "Enter the number:456\n",
      "[4, 5, 6]\n",
      "15\n"
     ]
    }
   ],
   "source": [
    "def split_digits(number):\n",
    "    digits = []\n",
    "    while number > 0:\n",
    "        digits.insert(0, number % 10)\n",
    "        number = number // 10\n",
    "    return digits\n",
    "number =int(input(\"Enter the number:\"))\n",
    "result = split_digits(number)\n",
    "print(result)\n",
    "print(sum(result))"
   ]
  },
  {
   "cell_type": "code",
   "execution_count": 6,
   "id": "1abe1068",
   "metadata": {},
   "outputs": [
    {
     "name": "stdout",
     "output_type": "stream",
     "text": [
      "6\n"
     ]
    }
   ],
   "source": [
    "x=123\n",
    "c=0\n",
    "while x!=0:\n",
    "    c+=(x%10)\n",
    "    x//=10\n",
    "print(c)"
   ]
  },
  {
   "cell_type": "code",
   "execution_count": 7,
   "id": "31907890",
   "metadata": {},
   "outputs": [
    {
     "name": "stdout",
     "output_type": "stream",
     "text": [
      "5\n"
     ]
    }
   ],
   "source": [
    "x=122\n",
    "sx=str(x)\n",
    "l=[]\n",
    "for i in range(len(str(x))):\n",
    "    l.append(int(sx[i]))\n",
    "print(sum(l))"
   ]
  },
  {
   "cell_type": "code",
   "execution_count": null,
   "id": "dcb50c1c",
   "metadata": {},
   "outputs": [],
   "source": []
  }
 ],
 "metadata": {
  "kernelspec": {
   "display_name": "Python 3 (ipykernel)",
   "language": "python",
   "name": "python3"
  },
  "language_info": {
   "codemirror_mode": {
    "name": "ipython",
    "version": 3
   },
   "file_extension": ".py",
   "mimetype": "text/x-python",
   "name": "python",
   "nbconvert_exporter": "python",
   "pygments_lexer": "ipython3",
   "version": "3.10.9"
  }
 },
 "nbformat": 4,
 "nbformat_minor": 5
}
