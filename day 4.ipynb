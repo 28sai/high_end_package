{
 "cells": [
  {
   "cell_type": "code",
   "execution_count": 1,
   "id": "06d09140",
   "metadata": {},
   "outputs": [],
   "source": [
    "#int x=96707012567812512301\n"
   ]
  },
  {
   "cell_type": "code",
   "execution_count": 2,
   "id": "f9885694",
   "metadata": {},
   "outputs": [
    {
     "data": {
      "text/plain": [
       "2147483648"
      ]
     },
     "execution_count": 2,
     "metadata": {},
     "output_type": "execute_result"
    }
   ],
   "source": [
    "2**31"
   ]
  },
  {
   "cell_type": "code",
   "execution_count": 7,
   "id": "93833016",
   "metadata": {},
   "outputs": [],
   "source": [
    "x=10.10"
   ]
  },
  {
   "cell_type": "code",
   "execution_count": 11,
   "id": "fee91ff7",
   "metadata": {},
   "outputs": [
    {
     "name": "stdout",
     "output_type": "stream",
     "text": [
      "<class 'float'>\n"
     ]
    }
   ],
   "source": [
    "print(type(x))"
   ]
  },
  {
   "cell_type": "code",
   "execution_count": 9,
   "id": "1c20aef8",
   "metadata": {},
   "outputs": [
    {
     "data": {
      "text/plain": [
       "10.1"
      ]
     },
     "execution_count": 9,
     "metadata": {},
     "output_type": "execute_result"
    }
   ],
   "source": [
    "x"
   ]
  },
  {
   "cell_type": "code",
   "execution_count": 10,
   "id": "0c9f73c7",
   "metadata": {},
   "outputs": [
    {
     "data": {
      "text/plain": [
       "float"
      ]
     },
     "execution_count": 10,
     "metadata": {},
     "output_type": "execute_result"
    }
   ],
   "source": [
    "type(x)"
   ]
  },
  {
   "cell_type": "raw",
   "id": "430c1a0e",
   "metadata": {},
   "source": [
    "What is an interpreter in Python?\n",
    "\n",
    "Python is an interpreted language, which means that code is executed line by line by the Python interpreter. It translates your code into bytecode, which is then executed by the Python runtime."
   ]
  },
  {
   "cell_type": "raw",
   "id": "40a790fd",
   "metadata": {},
   "source": [
    "buitin data strucuteres are combined with python (dynamic typing)"
   ]
  },
  {
   "cell_type": "raw",
   "id": "03e8dc00",
   "metadata": {},
   "source": [
    "What are variables in Python?\n",
    "\n",
    "Variables are used to store data in Python. They are dynamically typed, meaning you don't need to specify the data type when declaring a variable."
   ]
  },
  {
   "cell_type": "raw",
   "id": "be91de4f",
   "metadata": {},
   "source": [
    "OOPS\n",
    "creation and manipulation of objects. OOP principles, such as classes and inheritance, are fundamental in Python."
   ]
  },
  {
   "cell_type": "raw",
   "id": "b597a465",
   "metadata": {},
   "source": [
    "A package is a collection of Python modules organized in a directory hierarchy. Packages help organize related modules and provide a way to create namespaces within your project."
   ]
  },
  {
   "cell_type": "raw",
   "id": "d3f811e3",
   "metadata": {},
   "source": [
    "modules (contains code)"
   ]
  },
  {
   "cell_type": "raw",
   "id": "991436b9",
   "metadata": {},
   "source": [
    "List comprehension is a concise way to create lists in Python."
   ]
  },
  {
   "cell_type": "raw",
   "id": "9ee7a644",
   "metadata": {},
   "source": [
    "What are decorators in Python, and how do they work?\n",
    "\n",
    "Decorators are functions that modify the behavior of other functions or methods. They are often used for tasks like logging, authentication, and performance monitoring. Decorators use the @ symbol and can be applied to functions or methods."
   ]
  },
  {
   "cell_type": "raw",
   "id": "e70dc075",
   "metadata": {},
   "source": [
    "x=10\n",
    "x is an  integer type of an object"
   ]
  },
  {
   "cell_type": "code",
   "execution_count": 13,
   "id": "9483380d",
   "metadata": {},
   "outputs": [],
   "source": [
    "x=10,20"
   ]
  },
  {
   "cell_type": "code",
   "execution_count": 14,
   "id": "9ef8821e",
   "metadata": {},
   "outputs": [
    {
     "data": {
      "text/plain": [
       "(10, 20)"
      ]
     },
     "execution_count": 14,
     "metadata": {},
     "output_type": "execute_result"
    }
   ],
   "source": [
    "x"
   ]
  },
  {
   "cell_type": "code",
   "execution_count": 16,
   "id": "3ce9b018",
   "metadata": {},
   "outputs": [
    {
     "name": "stdout",
     "output_type": "stream",
     "text": [
      "<class 'tuple'>\n"
     ]
    }
   ],
   "source": [
    "print(type(x))"
   ]
  },
  {
   "cell_type": "code",
   "execution_count": 41,
   "id": "a5b14771",
   "metadata": {},
   "outputs": [
    {
     "name": "stdout",
     "output_type": "stream",
     "text": [
      "False\n"
     ]
    }
   ],
   "source": [
    "import keyword\n",
    "a=\"\"\n",
    "print(keyword.iskeyword(a))"
   ]
  },
  {
   "cell_type": "code",
   "execution_count": 47,
   "id": "768a0080",
   "metadata": {},
   "outputs": [
    {
     "name": "stdout",
     "output_type": "stream",
     "text": [
      "\n",
      "*\n",
      "**\n",
      "***\n",
      "****\n",
      "*****\n"
     ]
    }
   ],
   "source": [
    "for i in range(0,6):\n",
    "    print(\"\"*i+\"*\"*i)"
   ]
  },
  {
   "cell_type": "code",
   "execution_count": 57,
   "id": "b89d094a",
   "metadata": {},
   "outputs": [
    {
     "name": "stdout",
     "output_type": "stream",
     "text": [
      "     * \n",
      "    * * \n",
      "   * * * \n",
      "  * * * * \n",
      " * * * * * \n",
      "* * * * * * \n"
     ]
    }
   ],
   "source": [
    "n=6\n",
    "for i in range(n):\n",
    "    print(' '*(n-i-1)+'* '*(i+1))"
   ]
  },
  {
   "cell_type": "code",
   "execution_count": 59,
   "id": "16423546",
   "metadata": {},
   "outputs": [
    {
     "name": "stdout",
     "output_type": "stream",
     "text": [
      "     * \n",
      "    * * \n",
      "   * * * \n",
      "  * * * * \n",
      " * * * * * \n",
      "* * * * * * \n",
      "* * * * * * * * * * \n",
      "* * * * * * * * * * \n",
      "* * * * * * * * * * \n",
      "* * * * * * * * * * \n",
      "* * * * * * * * * * \n"
     ]
    }
   ],
   "source": [
    "n=6\n",
    "for i in range(n):\n",
    "    print(' '*(n-i-1)+'* '*(i+1))\n",
    "for i in range(5):\n",
    "    for j in range(10):\n",
    "        print(\"*\",end=\" \")\n",
    "    print()"
   ]
  },
  {
   "cell_type": "code",
   "execution_count": null,
   "id": "4547af38",
   "metadata": {},
   "outputs": [],
   "source": []
  },
  {
   "cell_type": "code",
   "execution_count": 90,
   "id": "7dc7791a",
   "metadata": {},
   "outputs": [
    {
     "name": "stdout",
     "output_type": "stream",
     "text": [
      "jpoo\n",
      "30\n",
      "10\n"
     ]
    }
   ],
   "source": [
    "class A:\n",
    "    a=10\n",
    "    __y=30\n",
    "    def S(self, a,__y):\n",
    "        print(a+__y)\n",
    "        b=10\n",
    "    def Work(self,a:int,__y):\n",
    "        print(a*__y)\n",
    "class B(A):\n",
    "    print(\"jpoo\")\n",
    "    \n",
    "\n",
    "obj=B()\n",
    "B.__call__()\n",
    "obj.Work(10,3)\n",
    "print(obj.a)"
   ]
  },
  {
   "cell_type": "code",
   "execution_count": 77,
   "id": "6440fe27",
   "metadata": {},
   "outputs": [
    {
     "name": "stdout",
     "output_type": "stream",
     "text": [
      "I have 3 sides\n",
      "I have 4 sides\n",
      "I have 5 sides\n",
      "I have 6 sides\n"
     ]
    }
   ],
   "source": [
    "# Python program showing\n",
    "# abstract base class work\n",
    "from abc import ABC, abstractmethod\n",
    "\n",
    "\n",
    "class Polygon(ABC):\n",
    "\n",
    "\t@abstractmethod\n",
    "\tdef noofsides(self):\n",
    "\t\tpass\n",
    "\n",
    "\n",
    "class Triangle(Polygon):\n",
    "\n",
    "\t# overriding abstract method\n",
    "\tdef noofsides(self):\n",
    "\t\tprint(\"I have 3 sides\")\n",
    "\n",
    "\n",
    "class Pentagon(Polygon):\n",
    "\n",
    "\t# overriding abstract method\n",
    "\tdef noofsides(self):\n",
    "\t\tprint(\"I have 5 sides\")\n",
    "\n",
    "\n",
    "class Hexagon(Polygon):\n",
    "\n",
    "\t# overriding abstract method\n",
    "\tdef noofsides(self):\n",
    "\t\tprint(\"I have 6 sides\")\n",
    "\n",
    "\n",
    "class Quadrilateral(Polygon):\n",
    "\n",
    "\t# overriding abstract method\n",
    "\tdef noofsides(self):\n",
    "\t\tprint(\"I have 4 sides\")\n",
    "R = Triangle()\n",
    "R.noofsides()\n",
    "K = Quadrilateral()\n",
    "K.noofsides()\n",
    "R = Pentagon()\n",
    "R.noofsides()\n",
    "K = Hexagon()\n",
    "K.noofsides()\n"
   ]
  },
  {
   "cell_type": "code",
   "execution_count": 86,
   "id": "220c12f7",
   "metadata": {},
   "outputs": [
    {
     "name": "stdout",
     "output_type": "stream",
     "text": [
      "Dog has four legs.\n",
      "Dog is a warm-blooded animal.\n"
     ]
    }
   ],
   "source": [
    "class Mammal(object):\n",
    "  def __init__(self, mammalName):\n",
    "    print(mammalName, 'is a warm-blooded animal.')\n",
    "    \n",
    "class Dog(Mammal):\n",
    "  def __init__(self):\n",
    "    print('Dog has four legs.')\n",
    "    super().__init__('Dog')\n",
    "    \n",
    "d1 = Dog()"
   ]
  },
  {
   "cell_type": "code",
   "execution_count": 91,
   "id": "c5f5d4db",
   "metadata": {},
   "outputs": [
    {
     "name": "stdout",
     "output_type": "stream",
     "text": [
      "4\n",
      "3\n",
      "2\n",
      "False\n",
      "2\n"
     ]
    }
   ],
   "source": [
    "#using class\n",
    "class Stack:\n",
    "    def __init__(self):\n",
    "        self.stack = []\n",
    "    def push(self,item):\n",
    "        self.stack.append(item)\n",
    "    def pop(self):\n",
    "        if not self.is_empty():\n",
    "            return self.stack.pop()\n",
    "        else:\n",
    "            raise IndexError(\"Stack is empty\")\n",
    "    def peek(self):\n",
    "        if not self.is_empty():\n",
    "            return self.stack[-1]\n",
    "        else:\n",
    "            raise IndexError(\"Stack is empty\")\n",
    "    def is_empty(self):\n",
    "        return len(self.stack) == 0\n",
    "    def size(self):\n",
    "        return len(self.stack)\n",
    "stack = Stack()\n",
    "stack.push(1)\n",
    "stack.push(2)\n",
    "stack.push(3)\n",
    "stack.push(4)\n",
    "print(stack.pop())  \n",
    "print(stack.pop()) \n",
    "print(stack.peek())  \n",
    "print(stack.is_empty())  \n",
    "print(stack.size())  \n"
   ]
  },
  {
   "cell_type": "code",
   "execution_count": 92,
   "id": "d5da4f1e",
   "metadata": {},
   "outputs": [
    {
     "name": "stdout",
     "output_type": "stream",
     "text": [
      "selectt ur choice: 1.push 2.pop 3.peek 4.display 5.len 6.quit\n",
      "enter ur choice: 1\n",
      "element: 23\n",
      "[23]\n",
      "selectt ur choice: 1.push 2.pop 3.peek 4.display 5.len 6.quit\n",
      "enter ur choice: 1\n",
      "element: 34\n",
      "[23, 34]\n",
      "selectt ur choice: 1.push 2.pop 3.peek 4.display 5.len 6.quit\n",
      "enter ur choice: 1\n",
      "element: 56\n",
      "[23, 34, 56]\n",
      "selectt ur choice: 1.push 2.pop 3.peek 4.display 5.len 6.quit\n",
      "enter ur choice: 4\n",
      "23\n",
      "34\n",
      "56\n",
      "selectt ur choice: 1.push 2.pop 3.peek 4.display 5.len 6.quit\n",
      "enter ur choice: 6\n"
     ]
    }
   ],
   "source": [
    "#method-1\n",
    "stack=[]\n",
    "def push():\n",
    "    n=int(input(\"element: \"))\n",
    "    stack.append(n)\n",
    "    print(stack)\n",
    "def pop():\n",
    "    if not stack:\n",
    "        print(\"stack is empty\")\n",
    "    else:\n",
    "        x=stack.pop()\n",
    "        print(\"removed element is\",x)\n",
    "        print(stack)\n",
    "def peek():\n",
    "    if not stack:\n",
    "        print(\"empty\")\n",
    "    else:\n",
    "        print(stack[-1])\n",
    "def display():\n",
    "    if not stack:\n",
    "        print(\"empty\")\n",
    "    else:\n",
    "        for i in stack:\n",
    "            print(i)\n",
    "def size():\n",
    "    if not stack:\n",
    "        print(\"empty\")\n",
    "    else:\n",
    "        print(len(stack))\n",
    "while True:\n",
    "    print(\"selectt ur choice: 1.push 2.pop 3.peek 4.display 5.len 6.quit\")\n",
    "    choice=int(input(\"enter ur choice: \"))\n",
    "    if choice==1:\n",
    "        push()\n",
    "    elif choice==2:\n",
    "        pop()\n",
    "    elif choice==3:\n",
    "        peek()\n",
    "    elif choice==4:\n",
    "        display()\n",
    "    elif choice==5:\n",
    "        size()\n",
    "    else:\n",
    "        break\n"
   ]
  },
  {
   "cell_type": "raw",
   "id": "12646ea3",
   "metadata": {},
   "source": [
    "create one  class that consists of 3 variables  wth initialization and u have to take 2 methods and the first method is with 2 arguments 1st one is string and 2nd one is integer adn inside of the method  the str reverse of value we have to print and next aquare if interger value and the 2nd method name is"
   ]
  },
  {
   "cell_type": "code",
   "execution_count": 124,
   "id": "fe4488b4",
   "metadata": {},
   "outputs": [
    {
     "name": "stdout",
     "output_type": "stream",
     "text": [
      "enter the string: sai\n",
      "enter the num1: 12\n",
      "enter number 2: 4\n",
      "ias\n",
      "16\n",
      "3\n",
      "0\n"
     ]
    }
   ],
   "source": [
    "class MyClass:\n",
    "    \n",
    "    def __init__(self):\n",
    "        self.a = input(\"enter the string: \")\n",
    "        self.b = int(input(\"enter the num1: \"))\n",
    "        self.c = int(input(\"enter number 2: \"))\n",
    "    def m1(self,a,c):\n",
    "        print(self.a[::-1])\n",
    "        print(self.c**2)\n",
    "\n",
    "    def display_res(self):\n",
    "        print(len(self.a))\n",
    "        print(self.b%self.c)\n",
    "\n",
    "obj=MyClass()\n",
    "obj.m1(obj.a,obj.c)\n",
    "obj.display_res()\n"
   ]
  },
  {
   "cell_type": "code",
   "execution_count": 129,
   "id": "c5c6a2cc",
   "metadata": {},
   "outputs": [
    {
     "name": "stdout",
     "output_type": "stream",
     "text": [
      "20\n",
      "10\n",
      "20\n",
      "\n"
     ]
    }
   ],
   "source": [
    "class A:\n",
    "    a=10\n",
    "        print(a)\n",
    "        print(self.a)\n",
    "        self.a=a\n",
    "    def m2(self):\n",
    "        print(self.a)\n",
    "        print(a)\n",
    "obj=A()\n",
    "obj.m1(20)\n",
    "obj.m2()"
   ]
  },
  {
   "cell_type": "code",
   "execution_count": 135,
   "id": "7d07af22",
   "metadata": {},
   "outputs": [
    {
     "name": "stdout",
     "output_type": "stream",
     "text": [
      "155\n"
     ]
    },
    {
     "data": {
      "text/plain": [
       "[20, 30, 45, 60]"
      ]
     },
     "execution_count": 135,
     "metadata": {},
     "output_type": "execute_result"
    }
   ],
   "source": [
    "l=[]\n",
    "l.append(20)\n",
    "l.append(30)\n",
    "l.append(45)\n",
    "l.append(60)\n",
    "print(sum(l))\n",
    "l"
   ]
  },
  {
   "cell_type": "code",
   "execution_count": 136,
   "id": "91555c6e",
   "metadata": {},
   "outputs": [
    {
     "name": "stdout",
     "output_type": "stream",
     "text": [
      "0\n",
      "True\n",
      "3\n",
      "c\n",
      "b\n",
      "a\n",
      "True\n"
     ]
    }
   ],
   "source": [
    "from queue import LifoQueue\n",
    "a=s=LifoQueue(maxsize=3)\n",
    "print(s.qsize())\n",
    "s.put(\"a\")\n",
    "s.put(\"b\")\n",
    "s.put(\"c\")\n",
    "print(s.full())\n",
    "print(s.qsize())\n",
    "print(s.get())\n",
    "print(s.get())\n",
    "print(s.get())\n",
    "\n",
    "print(s.empty())"
   ]
  },
  {
   "cell_type": "code",
   "execution_count": 149,
   "id": "4b566498",
   "metadata": {},
   "outputs": [
    {
     "name": "stdout",
     "output_type": "stream",
     "text": [
      "enter the size: 5\n",
      "enter element: 1\n",
      "enter element: 2\n",
      "enter element: 3\n",
      "enter element: 4\n",
      "enter element: 5\n",
      "[1, 2, 3, 4, 5]\n",
      "5\n",
      "4\n",
      "3\n",
      "2\n",
      "1\n",
      "[]\n"
     ]
    }
   ],
   "source": [
    "n=int(input(\"enter the size: \"))\n",
    "l=[]\n",
    "for i in range(n):\n",
    "    l.append(int(input(\"enter element: \")))\n",
    "print(l)\n",
    "for i in range(n):\n",
    "    print(l.pop())\n",
    "print(l)"
   ]
  },
  {
   "cell_type": "code",
   "execution_count": 152,
   "id": "f1faaf22",
   "metadata": {},
   "outputs": [
    {
     "name": "stdout",
     "output_type": "stream",
     "text": [
      "enter the size: 5\n",
      "enter element: 1\n",
      "enter element: 2\n",
      "enter element: 3\n",
      "enter element: 4\n",
      "enter element: 5\n",
      "deque([1, 2, 3, 4, 5])\n",
      "1\n",
      "2\n",
      "3\n",
      "4\n",
      "5\n",
      "deque([])\n"
     ]
    }
   ],
   "source": [
    "from collections import deque\n",
    "n=int(input(\"enter the size: \"))\n",
    "l=deque()\n",
    "for i in range(n):\n",
    "    l.append(int(input(\"enter element: \")))\n",
    "print(l)\n",
    "for i in range(n):\n",
    "    print(l.popleft())\n",
    "print(l)"
   ]
  },
  {
   "cell_type": "code",
   "execution_count": 153,
   "id": "6e1c67d9",
   "metadata": {},
   "outputs": [
    {
     "name": "stdout",
     "output_type": "stream",
     "text": [
      "enter the size: 5\n",
      "enter element: 1\n",
      "enter element: 2\n",
      "enter element: 3\n",
      "enter element: 4\n",
      "enter element: 5\n",
      "deque([1, 2, 3, 4, 5])\n",
      "5\n",
      "4\n",
      "3\n",
      "2\n",
      "1\n",
      "deque([])\n"
     ]
    }
   ],
   "source": [
    "from collections import deque\n",
    "n=int(input(\"enter the size: \"))\n",
    "l=deque()\n",
    "for i in range(n):\n",
    "    l.append(int(input(\"enter element: \")))\n",
    "print(l)\n",
    "for i in range(n):\n",
    "    print(l.pop())\n",
    "print(l)"
   ]
  },
  {
   "cell_type": "code",
   "execution_count": 155,
   "id": "2efdc5e0",
   "metadata": {},
   "outputs": [
    {
     "name": "stdout",
     "output_type": "stream",
     "text": [
      "enter the size: 5\n",
      "enter element: 1\n",
      "enter element: 2\n",
      "enter element: 3\n",
      "enter element: 4\n",
      "enter element: 5\n"
     ]
    },
    {
     "ename": "TypeError",
     "evalue": "deque.pop() takes no arguments (1 given)",
     "output_type": "error",
     "traceback": [
      "\u001b[1;31m---------------------------------------------------------------------------\u001b[0m",
      "\u001b[1;31mTypeError\u001b[0m                                 Traceback (most recent call last)",
      "Cell \u001b[1;32mIn[155], line 7\u001b[0m\n\u001b[0;32m      5\u001b[0m     l\u001b[38;5;241m.\u001b[39mappend(\u001b[38;5;28mint\u001b[39m(\u001b[38;5;28minput\u001b[39m(\u001b[38;5;124m\"\u001b[39m\u001b[38;5;124menter element: \u001b[39m\u001b[38;5;124m\"\u001b[39m)))\n\u001b[0;32m      6\u001b[0m \u001b[38;5;28;01mfor\u001b[39;00m i \u001b[38;5;129;01min\u001b[39;00m \u001b[38;5;28mrange\u001b[39m(n):\n\u001b[1;32m----> 7\u001b[0m     \u001b[38;5;28mprint\u001b[39m(\u001b[43ml\u001b[49m\u001b[38;5;241;43m.\u001b[39;49m\u001b[43mpop\u001b[49m\u001b[43m(\u001b[49m\u001b[38;5;241;43m0\u001b[39;49m\u001b[43m)\u001b[49m)\n\u001b[0;32m      8\u001b[0m \u001b[38;5;28mprint\u001b[39m(l)\n",
      "\u001b[1;31mTypeError\u001b[0m: deque.pop() takes no arguments (1 given)"
     ]
    }
   ],
   "source": [
    "from collections import deque\n",
    "n=int(input(\"enter the size: \"))\n",
    "l=deque()\n",
    "for i in range(n):\n",
    "    l.append(int(input(\"enter element: \")))\n",
    "for i in range(n):\n",
    "    print(l.pop(0))\n",
    "print(l)"
   ]
  },
  {
   "cell_type": "code",
   "execution_count": 156,
   "id": "80a8a0d7",
   "metadata": {},
   "outputs": [
    {
     "data": {
      "text/plain": [
       "1"
      ]
     },
     "execution_count": 156,
     "metadata": {},
     "output_type": "execute_result"
    }
   ],
   "source": [
    "l=[1,3,4,5,6]\n",
    "l.pop(0)"
   ]
  },
  {
   "cell_type": "code",
   "execution_count": null,
   "id": "21e39350",
   "metadata": {},
   "outputs": [],
   "source": []
  }
 ],
 "metadata": {
  "kernelspec": {
   "display_name": "Python 3 (ipykernel)",
   "language": "python",
   "name": "python3"
  },
  "language_info": {
   "codemirror_mode": {
    "name": "ipython",
    "version": 3
   },
   "file_extension": ".py",
   "mimetype": "text/x-python",
   "name": "python",
   "nbconvert_exporter": "python",
   "pygments_lexer": "ipython3",
   "version": "3.10.9"
  }
 },
 "nbformat": 4,
 "nbformat_minor": 5
}
