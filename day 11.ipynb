{
 "cells": [
  {
   "cell_type": "code",
   "execution_count": 14,
   "id": "824ad55e-5bb5-4fdb-a003-d8e677dbc0df",
   "metadata": {},
   "outputs": [
    {
     "name": "stdin",
     "output_type": "stream",
     "text": [
      " 5\n"
     ]
    },
    {
     "name": "stdout",
     "output_type": "stream",
     "text": [
      "101\n",
      "111\n",
      "7\n"
     ]
    }
   ],
   "source": [
    "n=int(input())\n",
    "n=str(bin(n))\n",
    "y=n[2:]\n",
    "print(y)\n",
    "\n",
    "for i in y:\n",
    "    if i=='0':\n",
    "        y=y.replace(i,'1')\n",
    "print(int(y))\n",
    "print(int(y,2))\n"
   ]
  },
  {
   "cell_type": "code",
   "execution_count": 22,
   "id": "876f507c-7b9c-4811-a3d5-9412507ce41b",
   "metadata": {},
   "outputs": [
    {
     "name": "stdin",
     "output_type": "stream",
     "text": [
      " 5\n",
      " 1\n"
     ]
    },
    {
     "name": "stdout",
     "output_type": "stream",
     "text": [
      "7\n"
     ]
    }
   ],
   "source": [
    "def fun(n,pos):\n",
    "    return n^(1<<pos)\n",
    "n=int(input())\n",
    "pos=int(input())\n",
    "print(fun(n,pos))"
   ]
  },
  {
   "cell_type": "code",
   "execution_count": 26,
   "id": "bf6afa5b-ae3e-4d06-bf25-d79f37fdf39f",
   "metadata": {},
   "outputs": [
    {
     "name": "stdin",
     "output_type": "stream",
     "text": [
      " 4\n"
     ]
    },
    {
     "name": "stdout",
     "output_type": "stream",
     "text": [
      "moving from src to dest\n",
      "moving frm src to dest\n",
      "moving from src to dest\n",
      "moving frm src to dest\n",
      "moving from src to dest\n",
      "moving frm src to dest\n",
      "moving from src to dest\n",
      "moving frm src to dest\n",
      "moving from src to dest\n",
      "moving frm src to dest\n",
      "moving from src to dest\n",
      "moving frm src to dest\n",
      "moving from src to dest\n",
      "moving frm src to dest\n",
      "moving from src to dest\n"
     ]
    }
   ],
   "source": [
    "#tower of hanoi\n",
    "def TOH(n,src,aux,dest):\n",
    "    if n<=1:\n",
    "        print(\"moving from src to dest\")\n",
    "        return\n",
    "    TOH(n-1,src,dest,aux)\n",
    "    print(\"moving frm src to dest\")\n",
    "    \n",
    "    TOH(n-1,aux,src,dest)\n",
    "    \n",
    "n=int(input())\n",
    "TOH(n,'A','B','C')"
   ]
  },
  {
   "cell_type": "code",
   "execution_count": 25,
   "id": "074d4dd1-1268-45f9-b1a9-addff0964a47",
   "metadata": {},
   "outputs": [
    {
     "name": "stdin",
     "output_type": "stream",
     "text": [
      " 3\n"
     ]
    },
    {
     "name": "stdout",
     "output_type": "stream",
     "text": [
      "7\n"
     ]
    }
   ],
   "source": [
    "n=int(input())\n",
    "print((2**n)-1)  "
   ]
  },
  {
   "cell_type": "code",
   "execution_count": 31,
   "id": "bd5081b7-4910-40c3-9704-1c84c89f3dab",
   "metadata": {},
   "outputs": [
    {
     "name": "stdin",
     "output_type": "stream",
     "text": [
      " 3\n"
     ]
    },
    {
     "name": "stdout",
     "output_type": "stream",
     "text": [
      "moving from src to dest\n",
      "moving frm src to dest\n",
      "moving from src to dest\n",
      "moving frm src to dest\n",
      "moving from src to dest\n",
      "moving frm src to dest\n",
      "moving from src to dest\n",
      "7\n"
     ]
    }
   ],
   "source": [
    "#tower of hanoi\n",
    "def TOH(n,src,aux,dest):\n",
    "    if n<=1:\n",
    "        print(\"moving from src to dest\")\n",
    "        return 1\n",
    "    x=TOH(n-1,src,dest,aux)\n",
    "    print(\"moving frm src to dest\")\n",
    "    \n",
    "    y=TOH(n-1,aux,src,dest)\n",
    "    return 1+x+y\n",
    "    \n",
    "n=int(input())\n",
    "a=TOH(n,'A','B','C')\n",
    "print(a)"
   ]
  },
  {
   "cell_type": "code",
   "execution_count": 9,
   "id": "6840e59b-4251-440a-9bf9-0ac3ca6ad9ae",
   "metadata": {},
   "outputs": [
    {
     "name": "stdin",
     "output_type": "stream",
     "text": [
      " 3\n"
     ]
    },
    {
     "data": {
      "text/plain": [
       "7"
      ]
     },
     "execution_count": 9,
     "metadata": {},
     "output_type": "execute_result"
    }
   ],
   "source": [
    "def count(n):\n",
    "    if n==1:\n",
    "        return 1\n",
    "    return 2*count(n-1)+1\n",
    "n=int(input())\n",
    "count(n)"
   ]
  },
  {
   "cell_type": "raw",
   "id": "4399e9ba-dfbd-4d46-8dfe-4ed5e6e41d5c",
   "metadata": {},
   "source": [
    "1) (i) calculate the position as (n/2, n-1) = (x,y)\n",
    "  (ii) calculate the further position values as (x-1, y+1) => (i,j)\n",
    "2) either i or j, go out of the range (0,1,...n-1) then wrap around\n",
    "   (if i is less than 0, make i= n-1)\n",
    "    (if j is greater than n-1, make j=0)\n",
    "3) if i and j both go out of the range( eg: i<0 and j>n-1)\n",
    "   then (i, j) => (0, n-2)"
   ]
  },
  {
   "cell_type": "code",
   "execution_count": 12,
   "id": "478f8ac6-649e-43f9-aa1c-71cb7ce2c447",
   "metadata": {},
   "outputs": [
    {
     "name": "stdin",
     "output_type": "stream",
     "text": [
      " 3\n"
     ]
    },
    {
     "name": "stdout",
     "output_type": "stream",
     "text": [
      "[2, 7, 6]\n",
      "[9, 5, 1]\n",
      "[4, 3, 8]\n"
     ]
    }
   ],
   "source": [
    "def generate(n):\n",
    "    arr = [[0] *n for j in range(n)]\n",
    "    i = n//2\n",
    "    j = n-1\n",
    "    num = 1\n",
    "    while num <= (n*n):\n",
    "        if i < 0 and j > n-1: #3rd condt\n",
    "            i = 0\n",
    "            j = n-2\n",
    "        else:\n",
    "            if i<0:\n",
    "                i = n-1\n",
    "            if j > n-1:\n",
    "                j = 0\n",
    "        if arr[i][j] != 0:\n",
    "            i += 1 \n",
    "            j -= 2 \n",
    "            continue\n",
    "        else:\n",
    "            arr[i][j] = num\n",
    "            num = num+1\n",
    "        i = i-1\n",
    "        j = j+1\n",
    "        \n",
    "    for row in arr:\n",
    "        print(row)\n",
    "    \n",
    "    \n",
    "n = int(input())\n",
    "generate(n)"
   ]
  },
  {
   "cell_type": "code",
   "execution_count": 14,
   "id": "318f0433-83d3-4c52-9e97-5cae6502888d",
   "metadata": {},
   "outputs": [
    {
     "name": "stdin",
     "output_type": "stream",
     "text": [
      " 3\n"
     ]
    },
    {
     "name": "stdout",
     "output_type": "stream",
     "text": [
      "[2, 7, 6]\n",
      "[9, 5, 1]\n",
      "[4, 3, 8]\n"
     ]
    }
   ],
   "source": [
    "def gen(n):\n",
    "    sq=[[0]*n for _ in range(n)]\n",
    "    num=1\n",
    "    i,j=n//2,n-1\n",
    "    while num<=(n*n):\n",
    "        if i<0 and j>n-1:\n",
    "            i=0\n",
    "            j=n-2\n",
    "        else:\n",
    "            if i<0:\n",
    "                i=n-1\n",
    "            if j>n-1:\n",
    "                j=0\n",
    "        if sq[i][j]!=0:\n",
    "            i+=1\n",
    "            j-=2\n",
    "            continue\n",
    "        else:\n",
    "            sq[i][j]=num\n",
    "            num+=1\n",
    "        i-=1\n",
    "        j+=1\n",
    "    for row in sq:\n",
    "        print(row)\n",
    "n=int(input())\n",
    "gen(n)"
   ]
  },
  {
   "cell_type": "code",
   "execution_count": 17,
   "id": "dcc31d15-2012-433b-8682-e548a13bacf8",
   "metadata": {},
   "outputs": [
    {
     "name": "stdin",
     "output_type": "stream",
     "text": [
      " 8 5 9 3 57 2 90\n"
     ]
    },
    {
     "data": {
      "text/plain": [
       "[2, 3, 5, 8, 9, 57, 90]"
      ]
     },
     "execution_count": 17,
     "metadata": {},
     "output_type": "execute_result"
    }
   ],
   "source": [
    "def quick(arr):\n",
    "    if len(arr)<=1:\n",
    "        return arr\n",
    "    pivot=arr[0]\n",
    "    less=[i for i in arr[1:] if i<=pivot]\n",
    "    greater=[i for i in arr[1:] if i>pivot]\n",
    "    return quick(less)+[pivot]+quick(greater)\n",
    "arr=list(map(int,input().split()))\n",
    "quick(arr)"
   ]
  },
  {
   "cell_type": "code",
   "execution_count": null,
   "id": "56f6c172-1924-49da-9e30-4e19abc7e73a",
   "metadata": {},
   "outputs": [],
   "source": []
  }
 ],
 "metadata": {
  "kernelspec": {
   "display_name": "Python 3 (ipykernel)",
   "language": "python",
   "name": "python3"
  },
  "language_info": {
   "codemirror_mode": {
    "name": "ipython",
    "version": 3
   },
   "file_extension": ".py",
   "mimetype": "text/x-python",
   "name": "python",
   "nbconvert_exporter": "python",
   "pygments_lexer": "ipython3",
   "version": "3.11.1"
  }
 },
 "nbformat": 4,
 "nbformat_minor": 5
}
