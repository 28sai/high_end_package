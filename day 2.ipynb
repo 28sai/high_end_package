{
 "cells": [
  {
   "cell_type": "markdown",
   "id": "dd14e0f8",
   "metadata": {},
   "source": [
    "# day 2"
   ]
  },
  {
   "cell_type": "code",
   "execution_count": 1,
   "id": "79f5a169",
   "metadata": {},
   "outputs": [
    {
     "name": "stdout",
     "output_type": "stream",
     "text": [
      "8\n"
     ]
    }
   ],
   "source": [
    "n=143\n",
    "s=0\n",
    "while n>0:\n",
    "    r=n%10\n",
    "    s=s+r\n",
    "    n=n//10\n",
    "print(s)"
   ]
  },
  {
   "cell_type": "code",
   "execution_count": 2,
   "id": "417db0d7",
   "metadata": {},
   "outputs": [
    {
     "data": {
      "text/plain": [
       "'\\nfor(i=0;i<n;i++){....n+1 times\\n    for(j=0;j<n;j++){      n*(n+1)\\n    statement: n*n.....n square\\n    }\\n};\\nTime complexity = O(n square)\\n'"
      ]
     },
     "execution_count": 2,
     "metadata": {},
     "output_type": "execute_result"
    }
   ],
   "source": [
    "#Time Complexity: O(n^2)\n",
    "'''\n",
    "for(i=0;i<n;i++){....n+1 times\n",
    "    for(j=0;j<n;j++){      n*(n+1)\n",
    "    statement: n*n.....n square\n",
    "    }\n",
    "};\n",
    "Time complexity = O(n square)\n",
    "'''"
   ]
  },
  {
   "cell_type": "code",
   "execution_count": 14,
   "id": "0982256f",
   "metadata": {},
   "outputs": [
    {
     "name": "stdout",
     "output_type": "stream",
     "text": [
      "3\n",
      "1 2 3\n",
      "4 5 6\n",
      "7 8 9\n",
      "[[7, 4, 1], [8, 5, 2], [9, 6, 3]]\n",
      "741\n",
      "852\n",
      "963\n"
     ]
    }
   ],
   "source": [
    "#implement a 2d array and rotate the matrix 90 deg\n",
    "def mat(n,arr):\n",
    "    for i in range(int(n/2)):\n",
    "        for j in range(i,n-i-1):   \n",
    "            temp=arr[i][j]\n",
    "            arr[i][j]=arr[n-1-j][i]\n",
    "            arr[n-1-j][i]=arr[n-1-i][n-1-j]\n",
    "            arr[n-1-i][n-1-j]=arr[j][n-1-i]\n",
    "            arr[j][n-1-i]=temp\n",
    "    return arr\n",
    "n=int(input())\n",
    "arr=[list(map(int,input().split())) for i in range(n)]\n",
    "x=mat(n,arr)\n",
    "print(x)\n",
    "for i in x:\n",
    "    print(\"\".join(map(str,i)))"
   ]
  },
  {
   "cell_type": "markdown",
   "id": "a55baef8",
   "metadata": {},
   "source": [
    "#### "
   ]
  },
  {
   "cell_type": "code",
   "execution_count": null,
   "id": "e4fb801f",
   "metadata": {},
   "outputs": [],
   "source": [
    "#assignement\n",
    "#what si stack and heap memeory where we are using heap and how it works\n",
    "'''Stack memory is short-lived whereas heap memory lives from the start till the end of application execution'''"
   ]
  },
  {
   "cell_type": "code",
   "execution_count": 15,
   "id": "96e2860f",
   "metadata": {},
   "outputs": [
    {
     "data": {
      "text/plain": [
       "'\\np=0\\nfor(i=1;p<=n;i++){\\np+=i\\n}\\n1:0+1 bcs p+=i...when N is 0\\n2:1+2=3..... N is 1\\n3:1+2+3=6\\n.\\n.\\n.\\nK:1+2+...K\\nNot n times assuming \\nwhen wil stop when p>n\\np=k(k+1)/2 bcs 1+2+...K\\np=K square>n\\nso n=sqrt of n\\nTime complexity O(sqrt(n))\\n'"
      ]
     },
     "execution_count": 15,
     "metadata": {},
     "output_type": "execute_result"
    }
   ],
   "source": [
    "#O(sqrt(n))\n",
    "'''\n",
    "p=0\n",
    "for(i=1;p<=n;i++){\n",
    "p+=i\n",
    "}\n",
    "1:0+1 bcs p+=i...when N is 0\n",
    "2:1+2=3..... N is 1\n",
    "3:1+2+3=6\n",
    ".\n",
    ".\n",
    ".\n",
    "K:1+2+...K\n",
    "Not n times assuming \n",
    "when wil stop when p>n\n",
    "p=k(k+1)/2 bcs 1+2+...K\n",
    "p=K square>n\n",
    "so n=sqrt of n\n",
    "Time complexity O(sqrt(n))\n",
    "'''"
   ]
  },
  {
   "cell_type": "code",
   "execution_count": null,
   "id": "fd9e31cd",
   "metadata": {},
   "outputs": [],
   "source": [
    "#O(logn base 2)\n",
    "'''\n",
    "ANALYSE \n",
    "i=1      1 time \n",
    "i=2      2 times  (1*2)\n",
    "i=3      4 times  (1*2)*2= 2 power 2\n",
    "i=4      8 times  (1*2)*2)*2= 2 power 3\n",
    "\n",
    "so when stopes i>=n\n",
    "                i=2 power k\n",
    "                2 power k>=n\n",
    "                k=logn base 2\n",
    "so time complexity O(log n base 2)\n",
    "\n",
    "'''"
   ]
  },
  {
   "cell_type": "code",
   "execution_count": 22,
   "id": "c38f6d48",
   "metadata": {},
   "outputs": [
    {
     "name": "stdout",
     "output_type": "stream",
     "text": [
      "5\n"
     ]
    },
    {
     "data": {
      "text/plain": [
       "[]"
      ]
     },
     "execution_count": 22,
     "metadata": {},
     "output_type": "execute_result"
    }
   ],
   "source": [
    "#create an dynamic 1d array it shd contains numbers between 10 to 30 of size 7 in this extract and print \n",
    "#even numbers and 2 power values\n",
    "n=int(input())\n",
    "arr=[list(map(int,input().split())) for i in range(n) if 10<=i<=31]\n",
    "e=[]\n",
    "l=[]\n",
    "for i in arr:\n",
    "    if i%2==0 :\n",
    "        e.append(i)\n",
    "    for i in range(50):\n",
    "        if 2**i==\n",
    "print(e)\n",
    "print(l)"
   ]
  },
  {
   "cell_type": "code",
   "execution_count": 32,
   "id": "f5baae88",
   "metadata": {},
   "outputs": [
    {
     "name": "stdout",
     "output_type": "stream",
     "text": [
      "10\n",
      "40\n",
      "8\n",
      "elements:\n",
      "10\n",
      "11\n",
      "15\n",
      "16\n",
      "17\n",
      "20\n",
      "32\n",
      "39\n",
      "[10, 11, 15, 16, 17, 20, 32, 39]\n",
      "[10, 16, 20, 32]\n",
      "[16, 32]\n"
     ]
    }
   ],
   "source": [
    "l,u=int(input()),int(input())\n",
    "size=int(input())\n",
    "li=[]\n",
    "print(\"elements:\")\n",
    "for i in range(8):\n",
    "    x=int(input())\n",
    "    if l<=x<=u:\n",
    "        li.append(x)\n",
    "print(li)\n",
    "e=[]\n",
    "p=[]\n",
    "for i in li:\n",
    "    if i%2==0:\n",
    "        e.append(i)\n",
    "    if i&(i-1)==0:\n",
    "        p.append(i)\n",
    "    else:\n",
    "        continue\n",
    "print(e)\n",
    "print(p)"
   ]
  },
  {
   "cell_type": "code",
   "execution_count": 33,
   "id": "cd8ca041",
   "metadata": {},
   "outputs": [
    {
     "data": {
      "text/plain": [
       "'\\nfor(i=n;i>=1;i=i/2){\\n    Statements;\\n}\\nN\\nn/2\\nn/2 power 2\\n..\\nn/2 power k\\nassume i<1 it stops right?\\nn/2 power k<1\\nn/2 power k=1\\nn=2 power k\\nk=log n base 2 so O(logn)\\n'"
      ]
     },
     "execution_count": 33,
     "metadata": {},
     "output_type": "execute_result"
    }
   ],
   "source": [
    "#O(log n)\n",
    "'''\n",
    "for(i=n;i>=1;i=i/2){\n",
    "    Statements;\n",
    "}\n",
    "N\n",
    "n/2\n",
    "n/2 power 2\n",
    "..\n",
    "n/2 power k\n",
    "assume i<1 it stops right?\n",
    "n/2 power k<1\n",
    "n/2 power k=1\n",
    "n=2 power k\n",
    "k=log n base 2 so O(logn)\n",
    "'''"
   ]
  },
  {
   "cell_type": "code",
   "execution_count": 34,
   "id": "b7bd18f4",
   "metadata": {},
   "outputs": [
    {
     "data": {
      "text/plain": [
       "'\\nfor(i=0;i<n;i++)====O(n)\\nfor(i=0;i<n;i+2)====O(n)\\nfor(i=n;i>1;i--)====O(n)\\nfor(i=1;i<n;i=i*2) ====O(log n base 2)\\nfor(i=1;i<n;i=i*3) ====O(log n base 3)\\nfor(i=1;i<n;i=i/2) ====O(log n base 10)\\n\\n'"
      ]
     },
     "execution_count": 34,
     "metadata": {},
     "output_type": "execute_result"
    }
   ],
   "source": [
    "'''\n",
    "for(i=0;i<n;i++)====O(n)\n",
    "for(i=0;i<n;i+2)====O(n)\n",
    "for(i=n;i>1;i--)====O(n)\n",
    "for(i=1;i<n;i=i*2) ====O(log n base 2)\n",
    "for(i=1;i<n;i=i*3) ====O(log n base 3)\n",
    "for(i=1;i<n;i=i/2) ====O(log n base 2)\n",
    "\n",
    "'''"
   ]
  },
  {
   "cell_type": "code",
   "execution_count": 35,
   "id": "7f10d934",
   "metadata": {},
   "outputs": [
    {
     "data": {
      "text/plain": [
       "'\\nconstant time complexity:   O(1)\\nlinear time complexity:   O(n)\\nlogarthimic time complexity:   O(logn)\\nquadratic time complexity:   O(n^2)\\nexponential time complexity:   O(2^n)\\n'"
      ]
     },
     "execution_count": 35,
     "metadata": {},
     "output_type": "execute_result"
    }
   ],
   "source": [
    "'''\n",
    "constant time complexity:   O(1)\n",
    "linear time complexity:   O(n)\n",
    "logarthimic time complexity:   O(logn)\n",
    "quadratic time complexity:   O(n^2)\n",
    "exponential time complexity:   O(2^n)\n",
    "'''"
   ]
  },
  {
   "cell_type": "markdown",
   "id": "4f7dabce",
   "metadata": {},
   "source": [
    "<h3><b>space complexity</b></h3>"
   ]
  },
  {
   "cell_type": "code",
   "execution_count": null,
   "id": "993ff36c",
   "metadata": {},
   "outputs": [],
   "source": [
    "'''\n",
    "parallel to time complexity\n",
    "array of size n, require O(n) space\n",
    "2d array of size n*n: O(n^2) space.\n",
    "Linear Search         O(1)\n",
    "Merge sort            O(n)\n",
    "Depth first Search    O(n)\n",
    "Breadth first Search  O(n)\n",
    "Dynamic programing    O(n^2) or O(n*m)\n",
    "'''"
   ]
  },
  {
   "cell_type": "code",
   "execution_count": 3,
   "id": "1f519b0e",
   "metadata": {},
   "outputs": [
    {
     "name": "stdout",
     "output_type": "stream",
     "text": [
      "5\n",
      "1 2 3 4 5\n",
      "15\n"
     ]
    }
   ],
   "source": [
    "def son(n,arr):\n",
    "    s=0\n",
    "    for i in arr:\n",
    "        s+=i\n",
    "    return s\n",
    "n=int(input())\n",
    "arr=list(map(int,input().split()))\n",
    "x=son(n,arr)\n",
    "print(x)\n",
    "#here array space is O(n)\n",
    "#s,arr space is O(1)\n",
    "#overall the space complexity is O(n)"
   ]
  },
  {
   "cell_type": "code",
   "execution_count": 7,
   "id": "e81c9b02",
   "metadata": {},
   "outputs": [
    {
     "name": "stdout",
     "output_type": "stream",
     "text": [
      "size: 5\n",
      "4\n",
      "1 2 3 4 5\n",
      "element found\n"
     ]
    }
   ],
   "source": [
    "def ls(tar,arr):\n",
    "    for i in arr:\n",
    "        if i==tar:\n",
    "            temp=1\n",
    "    if temp==1:\n",
    "        print(\"element found\")\n",
    "    else:\n",
    "        print(\"not found\")\n",
    "n=int(input(\"size: \"))\n",
    "tar=int(input())\n",
    "arr=list(map(int,input().split()))\n",
    "ls(tar,arr)"
   ]
  },
  {
   "cell_type": "code",
   "execution_count": 9,
   "id": "b1146476",
   "metadata": {},
   "outputs": [
    {
     "name": "stdout",
     "output_type": "stream",
     "text": [
      "3\n",
      "1 2 3 4 5\n",
      "found\n"
     ]
    }
   ],
   "source": [
    "def bin(n,arr):\n",
    "    lb=0\n",
    "    ub=len(arr)-1\n",
    "    while lb<=ub:\n",
    "        mid=(lb+ub)//2\n",
    "        if arr[mid]==n:\n",
    "            return \"found\"\n",
    "        elif arr[mid]<n:\n",
    "            lb=mid+1\n",
    "        else:\n",
    "            ub=mid-1\n",
    "    return \"not found\"\n",
    "n=int(input())\n",
    "arr=list(map(int,input().split()))\n",
    "print(bin(n,arr))"
   ]
  },
  {
   "cell_type": "code",
   "execution_count": 10,
   "id": "58e35ed2",
   "metadata": {},
   "outputs": [
    {
     "data": {
      "text/plain": [
       "'constant Space complexity:   O(1)\\nlinear Space complexity:   O(n)\\nlogarthimic space complexity:   O(logn)\\nquadratic time complexity:   O(n^2)\\nexponential time complexity:   O(2^n)\\n\\nSame amt of space regardless of input size n it is called constant complexity\\nex:  sum of array elements and linear search\\nWHY IT IS O(1)\\nbecause space is not depending on values\\n\\n'"
      ]
     },
     "execution_count": 10,
     "metadata": {},
     "output_type": "execute_result"
    }
   ],
   "source": [
    "'''constant Space complexity:   O(1)\n",
    "linear Space complexity:   O(n)\n",
    "logarthimic space complexity:   O(logn)\n",
    "quadratic time complexity:   O(n^2)\n",
    "exponential time complexity:   O(2^n)\n",
    "\n",
    "Same amt of space regardless of input size n it is called constant complexity\n",
    "ex:  sum of array elements and linear search\n",
    "WHY IT IS O(1)\n",
    "because space is not depending on values\n",
    "\n",
    "'''"
   ]
  },
  {
   "cell_type": "code",
   "execution_count": 12,
   "id": "85433b3c",
   "metadata": {},
   "outputs": [
    {
     "name": "stdout",
     "output_type": "stream",
     "text": [
      "23 45 76 24 89 56\n",
      "[23, 24, 45, 56, 76, 89]\n"
     ]
    }
   ],
   "source": [
    "def quisort(arr):\n",
    "    if len(arr) <= 1:\n",
    "        return arr\n",
    "    else:\n",
    "        pivot=arr[0]\n",
    "        less=[x for x in arr[1:] if x<=pivot]\n",
    "        greater=[x for x in arr[1:] if x>pivot]\n",
    "        return quisort(less)+[pivot]+quisort(greater)\n",
    "arr=list(map(int,input().split()))\n",
    "print(quick_sort(arr))\n",
    "\n",
    "#O(logn)"
   ]
  },
  {
   "cell_type": "code",
   "execution_count": 14,
   "id": "18f91fc5",
   "metadata": {},
   "outputs": [
    {
     "name": "stdout",
     "output_type": "stream",
     "text": [
      "[[0, 1, 2, 3, 4, 5, 6, 7, 8, 9], [0, 1, 2, 3, 4, 5, 6, 7, 8, 9], [0, 1, 2, 3, 4, 5, 6, 7, 8, 9], [0, 1, 2, 3, 4, 5, 6, 7, 8, 9], [0, 1, 2, 3, 4, 5, 6, 7, 8, 9], [0, 1, 2, 3, 4, 5, 6, 7, 8, 9], [0, 1, 2, 3, 4, 5, 6, 7, 8, 9], [0, 1, 2, 3, 4, 5, 6, 7, 8, 9], [0, 1, 2, 3, 4, 5, 6, 7, 8, 9], [0, 1, 2, 3, 4, 5, 6, 7, 8, 9]]\n"
     ]
    }
   ],
   "source": [
    "#polynomial complexity O(n^2)\n",
    "#space complexity grows proportionally to the sq of the input size\n",
    "def generate_lists(n):\n",
    "    table_list=[]\n",
    "    for i in range(n):\n",
    "        row=[]\n",
    "        for j in range(n):\n",
    "            row.append(j)\n",
    "        table_list.append(row)\n",
    "    return table_list\n",
    "print(generate_lists(10))"
   ]
  },
  {
   "cell_type": "code",
   "execution_count": 15,
   "id": "8ab4b7ce",
   "metadata": {},
   "outputs": [],
   "source": [
    "#sum of n number\n",
    "#fibo\n",
    "#factorial"
   ]
  },
  {
   "cell_type": "code",
   "execution_count": 17,
   "id": "d91bdff4",
   "metadata": {},
   "outputs": [
    {
     "name": "stdout",
     "output_type": "stream",
     "text": [
      "5\n",
      "15\n"
     ]
    }
   ],
   "source": [
    "def add(n):   #space complexity is O(n)\n",
    "    if n<=0:\n",
    "        return 0;\n",
    "    else:\n",
    "        return n+add(n-1)\n",
    "n=int(input())\n",
    "print(add(n))"
   ]
  },
  {
   "cell_type": "code",
   "execution_count": 22,
   "id": "7fc4d582",
   "metadata": {},
   "outputs": [
    {
     "name": "stdout",
     "output_type": "stream",
     "text": [
      "5\n",
      "120\n"
     ]
    }
   ],
   "source": [
    "def factorial(num):    #space complexity is O(n)\n",
    "    if num <=1 :\n",
    "        return 1\n",
    "    else:\n",
    "        return num * factorial(num-1)\n",
    "num=int(input())\n",
    "print(factorial(num))"
   ]
  },
  {
   "cell_type": "code",
   "execution_count": 21,
   "id": "e594080d",
   "metadata": {},
   "outputs": [
    {
     "name": "stdout",
     "output_type": "stream",
     "text": [
      "10\n",
      "0\n",
      "1\n",
      "1\n",
      "2\n",
      "3\n",
      "5\n",
      "8\n",
      "13\n",
      "21\n",
      "34\n"
     ]
    }
   ],
   "source": [
    "def fiboacci(num):\n",
    "    if num<=1:\n",
    "        return num\n",
    "    if num==2:\n",
    "        return 1\n",
    "    else:  \n",
    "        return (fiboacci(num-1)+fiboacci(num-2))  \n",
    "nums = int(input())\n",
    "for i in range(nums):\n",
    "    print(fiboacci(i))   #space complexity is O(n)"
   ]
  },
  {
   "cell_type": "code",
   "execution_count": 25,
   "id": "b9517109",
   "metadata": {},
   "outputs": [
    {
     "name": "stdout",
     "output_type": "stream",
     "text": [
      "3\n",
      "0 1 3\n",
      "2\n"
     ]
    }
   ],
   "source": [
    "def missing_no(n,arr):\n",
    "    chk=0\n",
    "    for i in range(len(arr)):\n",
    "        if arr[i]==1:\n",
    "            chk+=1\n",
    "        if arr[i]<=0:\n",
    "            arr[i]=1\n",
    "    if chk==0:\n",
    "        return 1\n",
    "    for i in range(len(arr)):\n",
    "        val=abs(arr[i])-1\n",
    "        if val>=0 and val<len(arr):\n",
    "            arr[val]=-1*abs(arr[val])\n",
    "    for i in range(len(arr)):\n",
    "        if arr[i]>0:\n",
    "            return i+1\n",
    "    return len(arr)+1\n",
    "n=int(input())\n",
    "arr=list(map(int,input().split()))\n",
    "print(missing_no(n,arr))"
   ]
  },
  {
   "cell_type": "code",
   "execution_count": 26,
   "id": "c1877f6e",
   "metadata": {},
   "outputs": [
    {
     "name": "stdout",
     "output_type": "stream",
     "text": [
      "7\n"
     ]
    }
   ],
   "source": [
    "def bit(n,pos):\n",
    "    x=1<<pos\n",
    "    res=n^x\n",
    "    return res\n",
    "n=5\n",
    "pos=1\n",
    "print(bit(n,pos))"
   ]
  },
  {
   "cell_type": "code",
   "execution_count": 1,
   "id": "c487b500",
   "metadata": {},
   "outputs": [],
   "source": [
    "def missing_no(n,arr):\n",
    "    chk=0\n",
    "    for i in range(len(arr)):\n",
    "        if arr[i]==1:\n",
    "            return 1\n",
    "        if arr[i]<=0:\n",
    "            arr[i]=1\n",
    "    if chk==0:\n",
    "        return 1\n",
    "    for i in range(len(arr)):\n",
    "        val=abs(arr[i])-1\n",
    "        arr[val]=-1*abs(arr[i])\n",
    "    for i in range(len(arr)):\n",
    "        if arr[i]>0:\n",
    "            return i+1\n",
    "    return len(arr)+1"
   ]
  },
  {
   "cell_type": "code",
   "execution_count": 3,
   "id": "4ee83792",
   "metadata": {},
   "outputs": [
    {
     "name": "stdout",
     "output_type": "stream",
     "text": [
      "Execution Time: 0.0 seconds\n",
      "Space Complexity: 320 bytes\n"
     ]
    }
   ],
   "source": [
    "import time\n",
    "\n",
    "import sys\n",
    "def analyze_complexity(func, input_data):\n",
    "    # Measure execution time\n",
    "    start_time = time.time()\n",
    "    func(input_data)\n",
    "    end_time = time.time()\n",
    "    execution_time = end_time - start_time\n",
    "    \n",
    "    # Analyze space complexity\n",
    "    # Assume space complexity is directly proportional to the size of data structures\n",
    "    space_complexity = sum(map(sys.getsizeof, locals().values()))\n",
    "    \n",
    "    return execution_time, space_complexity\n",
    "\n",
    "def example_function(arr):\n",
    "    total = 0\n",
    "    for num in arr:\n",
    "        total += num\n",
    "    return total\n",
    "\n",
    "if __name__ == \"__main__\":\n",
    "    input_data = [1, 2, 3, 4, 5]\n",
    "    execution_time, space_complexity = analyze_complexity(example_function, input_data)\n",
    "    \n",
    "    print(f\"Execution Time: {execution_time} seconds\")\n",
    "    print(f\"Space Complexity: {space_complexity} bytes\")\n"
   ]
  },
  {
   "cell_type": "code",
   "execution_count": null,
   "id": "304f211a",
   "metadata": {},
   "outputs": [],
   "source": []
  }
 ],
 "metadata": {
  "kernelspec": {
   "display_name": "Python 3 (ipykernel)",
   "language": "python",
   "name": "python3"
  },
  "language_info": {
   "codemirror_mode": {
    "name": "ipython",
    "version": 3
   },
   "file_extension": ".py",
   "mimetype": "text/x-python",
   "name": "python",
   "nbconvert_exporter": "python",
   "pygments_lexer": "ipython3",
   "version": "3.10.9"
  }
 },
 "nbformat": 4,
 "nbformat_minor": 5
}
