{
 "cells": [
  {
   "cell_type": "markdown",
   "id": "1b0ecd76-9455-4f08-8913-d620f5c590ca",
   "metadata": {},
   "source": [
    "<h1>porblem statements</h1>"
   ]
  },
  {
   "cell_type": "code",
   "execution_count": 46,
   "id": "d4611d97-1520-42ed-a912-db3f8aa7779b",
   "metadata": {},
   "outputs": [
    {
     "name": "stdout",
     "output_type": "stream",
     "text": [
      "5\n",
      "1 2 2 4 5\n",
      "3\n"
     ]
    }
   ],
   "source": [
    "def missingno(n,arr):\n",
    "    chk=0\n",
    "    for i in range(len(arr)):\n",
    "        if arr[i]==1:\n",
    "            chk+=1\n",
    "        if arr[i]<=0:\n",
    "            arr[i]=1\n",
    "    if chk==0:\n",
    "        return 1\n",
    "    for i in range(len(arr)):\n",
    "        val=abs(arr[i])-1\n",
    "        if val>=0 and val<len(arr):\n",
    "            arr[val]=-1*abs(arr[val])\n",
    "    for i in range(len(arr)):\n",
    "        if arr[i]>0:\n",
    "            return i+1\n",
    "    return len(arr)+1\n",
    "n=int(input())\n",
    "arr=list(map(int,input().split()))\n",
    "x=missingno(n,arr)\n",
    "print(x)\n"
   ]
  },
  {
   "cell_type": "code",
   "execution_count": 58,
   "id": "49a091b6-1bf9-4afd-857c-6ade5ceef11a",
   "metadata": {},
   "outputs": [
    {
     "name": "stdout",
     "output_type": "stream",
     "text": [
      "5\n",
      "1 2 3 5\n"
     ]
    },
    {
     "data": {
      "text/plain": [
       "4"
      ]
     },
     "execution_count": 58,
     "metadata": {},
     "output_type": "execute_result"
    }
   ],
   "source": [
    "#brute force\n",
    "def miss(n,arr):\n",
    "    for i in range(1,n+1):\n",
    "        if i not in arr:\n",
    "            return i\n",
    "        \n",
    "n=int(input())\n",
    "arr=list(map(int,input().split()))\n",
    "miss(n,arr)"
   ]
  },
  {
   "cell_type": "code",
   "execution_count": 43,
   "id": "bcb06f01-f804-4b41-99db-8cd8171b4b01",
   "metadata": {},
   "outputs": [
    {
     "name": "stdout",
     "output_type": "stream",
     "text": [
      "10\n",
      "1 8 4 3 5 2 6 10 9\n"
     ]
    },
    {
     "data": {
      "text/plain": [
       "7"
      ]
     },
     "execution_count": 43,
     "metadata": {},
     "output_type": "execute_result"
    }
   ],
   "source": [
    "def miss(n,arr):\n",
    "    chk=0\n",
    "    for i in range(max(arr)+1):\n",
    "        chk^=i\n",
    "    ans=0\n",
    "    for i in arr:\n",
    "        ans^=i\n",
    "    return ans^chk\n",
    "\n",
    "n=int(input())\n",
    "arr=list(map(int,input().split()))\n",
    "miss(n,arr)"
   ]
  },
  {
   "cell_type": "code",
   "execution_count": 45,
   "id": "311bc600-339d-46da-aef3-636c43a58c35",
   "metadata": {},
   "outputs": [
    {
     "name": "stdout",
     "output_type": "stream",
     "text": [
      "5\n",
      "1 1 2 2 4\n"
     ]
    },
    {
     "data": {
      "text/plain": [
       "4"
      ]
     },
     "execution_count": 45,
     "metadata": {},
     "output_type": "execute_result"
    }
   ],
   "source": [
    "def sing(n,arr):\n",
    "    c=0\n",
    "    for i in arr:\n",
    "        c=c^i\n",
    "    return c\n",
    "n=int(input())\n",
    "arr=list(map(int,input().split()))\n",
    "# arr = [1,2,2,4,5]\n",
    "sing(n,arr)"
   ]
  },
  {
   "cell_type": "code",
   "execution_count": 66,
   "id": "ab3a55f4-ecf2-4c5b-9b78-fe4b47899735",
   "metadata": {},
   "outputs": [
    {
     "name": "stdout",
     "output_type": "stream",
     "text": [
      "1 1 2 3 4\n",
      "[1]\n"
     ]
    }
   ],
   "source": [
    "def fun(arr):\n",
    "    seen = set()\n",
    "    duplicates = set()\n",
    "\n",
    "    for item in arr:\n",
    "        if item in seen:\n",
    "            duplicates.add(item)\n",
    "        else:\n",
    "            seen.add(item)\n",
    "\n",
    "    return list(duplicates)\n",
    "arr=list(map(int,input().split()))\n",
    "x=fun(arr)\n",
    "print(x)"
   ]
  },
  {
   "cell_type": "code",
   "execution_count": 204,
   "id": "c41b43ec-be8e-4d05-a7bd-52e232affac6",
   "metadata": {},
   "outputs": [
    {
     "name": "stdout",
     "output_type": "stream",
     "text": [
      "20\n",
      "True\n",
      "(2, {(7, 13), (8, 12)})\n"
     ]
    }
   ],
   "source": [
    "#arr[i]+arr[i+1]=target     target-arr[i+1]=arr[i]\n",
    "def is_pair_exist(arr,target):\n",
    "    pairs=set()\n",
    "    pair_sum=set()\n",
    "    c=0\n",
    "    for i in arr:\n",
    "#         if target in arr:\n",
    "#             return True\n",
    "        j=target-i\n",
    "        if j in pairs:\n",
    "            c+=1\n",
    "            pair_sum.add((i,j))\n",
    "        pairs.add(i)\n",
    "    if c>0:\n",
    "        print(\"True\")\n",
    "    else:\n",
    "        print(\"False\")\n",
    "    return c,pair_sum\n",
    "\n",
    "arr=[3,-9,12,6,5,8,13,7]\n",
    "target=int(input())\n",
    "x=is_pair_exist(arr,target)\n",
    "print(x)\n"
   ]
  },
  {
   "cell_type": "code",
   "execution_count": 80,
   "id": "e767b3e2-768b-4199-80b4-5dd6daad3e02",
   "metadata": {},
   "outputs": [
    {
     "name": "stdout",
     "output_type": "stream",
     "text": [
      "-3 8 7 2 -5 13 18 9 6\n",
      "20\n"
     ]
    },
    {
     "data": {
      "text/plain": [
       "True"
      ]
     },
     "execution_count": 80,
     "metadata": {},
     "output_type": "execute_result"
    }
   ],
   "source": [
    "def two_pointer(arr,target):\n",
    "    i=0\n",
    "    j=len(arr)-1\n",
    "    x=0\n",
    "    arr.sort()\n",
    "    while i<j:\n",
    "        if arr[i]+arr[j]==target: return True\n",
    "        if arr[i]+arr[j]<target: i=i+1\n",
    "        if arr[i]+arr[j]>target: j=j-1\n",
    "    return False\n",
    "arr=list(map(int,input().split()))\n",
    "target=int(input())\n",
    "two_pointer(arr,target)"
   ]
  },
  {
   "cell_type": "code",
   "execution_count": 92,
   "id": "9632f783-e42f-49c5-85e5-6291103a109e",
   "metadata": {
    "scrolled": true
   },
   "outputs": [
    {
     "name": "stdout",
     "output_type": "stream",
     "text": [
      "egg\n",
      "add\n"
     ]
    },
    {
     "data": {
      "text/plain": [
       "True"
      ]
     },
     "execution_count": 92,
     "metadata": {},
     "output_type": "execute_result"
    }
   ],
   "source": [
    "#isomorphic string\n",
    "def isomor(s,t):\n",
    "    s_to_t={}\n",
    "    t_to_s={}\n",
    "    for i in range(len(s)):\n",
    "        if s[i] in s_to_t:\n",
    "            if s_to_t[s[i]]!=t[i]:\n",
    "                return False\n",
    "        else:\n",
    "            s_to_t[s[i]]=t[i]\n",
    "        if t[i] in t_to_s:\n",
    "            if t_to_s[t[i]]!=s[i]:\n",
    "                return False\n",
    "        else:\n",
    "            t_to_s[t[i]]=s[i]\n",
    "    return True\n",
    "s=input()\n",
    "t=input()\n",
    "isomor(s,t)"
   ]
  },
  {
   "cell_type": "code",
   "execution_count": null,
   "id": "4dea927f",
   "metadata": {},
   "outputs": [],
   "source": []
  },
  {
   "cell_type": "code",
   "execution_count": 126,
   "id": "28a9dc6c",
   "metadata": {},
   "outputs": [
    {
     "name": "stdout",
     "output_type": "stream",
     "text": [
      "3 9 -2 8 7 6 5\n",
      "25\n",
      "19\n",
      "12\n",
      "36\n"
     ]
    }
   ],
   "source": [
    "arr=list(map(int,input().split()))\n",
    "targets=[[0,4],[2,5],[0,1],[0,6]]\n",
    "for i in targets:\n",
    "    for j in i:\n",
    "        print(sum(arr[j:i[-1]+1]))\n",
    "        break\n"
   ]
  },
  {
   "cell_type": "code",
   "execution_count": 131,
   "id": "c4148887",
   "metadata": {},
   "outputs": [
    {
     "name": "stdout",
     "output_type": "stream",
     "text": [
      "3 9 -2 8 7 6 5\n",
      "25\n",
      "19\n",
      "12\n",
      "36\n"
     ]
    }
   ],
   "source": [
    "def query_subarray(arr,targets):\n",
    "    n=len(arr)\n",
    "    ps=[0 for i in range(n)]\n",
    "    for i in range(n):\n",
    "        if i==0:\n",
    "            ps[i]=arr[i]\n",
    "        else:\n",
    "            ps[i]=ps[i-1]+arr[i]\n",
    "    for i in targets:\n",
    "        l=i[0]\n",
    "        r=i[1]\n",
    "        if l==0:\n",
    "            print(ps[r])\n",
    "        else:\n",
    "            print(ps[r]-ps[l-1])\n",
    "arr=list(map(int,input().split()))\n",
    "targets=[[0,4],[2,5],[0,1],[0,6]]\n",
    "query_subarray(arr,targets)"
   ]
  },
  {
   "cell_type": "code",
   "execution_count": 134,
   "id": "d1a1bc40",
   "metadata": {},
   "outputs": [
    {
     "name": "stdout",
     "output_type": "stream",
     "text": [
      "3 9 -2 8 7 6 5\n",
      "25\n",
      "26\n",
      "12\n",
      "36\n"
     ]
    }
   ],
   "source": [
    "arr=list(map(int,input().split()))\n",
    "targets=[[0,4],[2,5],[0,1],[0,6]]\n",
    "ps=[0]*(len(arr)+1)\n",
    "for i in range(len(arr)):\n",
    "    ps[i]=ps[i-1]+arr[i]\n",
    "for i in targets:\n",
    "    l=i[0]\n",
    "    r=i[1]\n",
    "    if l==0:\n",
    "        print(ps[r])\n",
    "    else:\n",
    "        print(ps[r+1]-ps[l])"
   ]
  },
  {
   "cell_type": "code",
   "execution_count": 154,
   "id": "011190c5",
   "metadata": {},
   "outputs": [
    {
     "name": "stdout",
     "output_type": "stream",
     "text": [
      "[8, 7, 9]\n"
     ]
    }
   ],
   "source": [
    "def max_sub_Arr(arr):\n",
    "    ms=arr[0]\n",
    "    cs=arr[0]\n",
    "    sub_arr=[]\n",
    "    for i in range(1,len(arr)):\n",
    "        cs+=arr[i]\n",
    "        if cs<arr[i]:\n",
    "            cs=arr[i]\n",
    "        if cs>ms:\n",
    "            ms=cs\n",
    "            sub_arr.append(arr[i])\n",
    "        if len(sub_arr)==3:\n",
    "            return sub_arr\n",
    "    return sub_arr\n",
    "\n",
    "arr=[-3,8,-5,2,7,9,-11,18]\n",
    "x=max_sub_Arr(arr)\n",
    "print(x)"
   ]
  },
  {
   "cell_type": "code",
   "execution_count": 167,
   "id": "7ef538f9",
   "metadata": {},
   "outputs": [
    {
     "name": "stdout",
     "output_type": "stream",
     "text": [
      "[8, -5, 8] 11\n",
      "[8, 7, 9] 24\n",
      "[9, -11, 818] 816\n"
     ]
    }
   ],
   "source": [
    "def max_sub(arr):\n",
    "    ms=0\n",
    "    cs=0\n",
    "    y=[]\n",
    "    for i in range(len(arr)):\n",
    "        y.append(arr[i:i+3]) \n",
    "    for i in y:\n",
    "        if sum(i)>ms and len(i)==3:\n",
    "            ms=sum(i)\n",
    "            print(i,ms)\n",
    "arr=[-3,8,-5,8,7,9,-11,818]\n",
    "max_sub(arr)\n",
    "#print(x)"
   ]
  },
  {
   "cell_type": "code",
   "execution_count": 179,
   "id": "1436b1f2",
   "metadata": {},
   "outputs": [
    {
     "name": "stdout",
     "output_type": "stream",
     "text": [
      "5\n",
      "[8, -5, 8, 7, 9]\n"
     ]
    }
   ],
   "source": [
    "def max_sub(k,arr):    \n",
    "    ms=sum(arr[:k])  \n",
    "    cs=ms  \n",
    "    sub_arr=arr[:k] \n",
    "    for i in range(k,len(arr)):\n",
    "        cs=cs+arr[i]-arr[i-k]  \n",
    "        if cs>ms:\n",
    "            ms=cs\n",
    "            sub_arr=arr[i-(k-1):i+1]  \n",
    "    return sub_arr\n",
    "arr=[-3,8,-5,8,7,9,-11,8]\n",
    "k=int(input())\n",
    "result=max_sub(k,arr)\n",
    "print(result)\n"
   ]
  },
  {
   "cell_type": "code",
   "execution_count": 199,
   "id": "457911f0",
   "metadata": {},
   "outputs": [
    {
     "name": "stdout",
     "output_type": "stream",
     "text": [
      "(45, [-2, -2, 18, 24, 24, 36, 45, 45, 45])\n"
     ]
    }
   ],
   "source": [
    "#kadanes algorithm\n",
    "def max_subarr(arr):\n",
    "    ms=arr[0]\n",
    "    cs=arr[0]\n",
    "    y=[]\n",
    "    for i in arr[1:]:\n",
    "        cs=max(i,cs+i)\n",
    "        ms=max(ms,cs)\n",
    "        y.append(ms)\n",
    "        \n",
    "    return ms,y\n",
    "arr=[-3,-2,-19,18,6,-3,15,9,-17,2]\n",
    "x=max_subarr(arr)\n",
    "print(x)\n"
   ]
  },
  {
   "cell_type": "code",
   "execution_count": 203,
   "id": "8a06933b",
   "metadata": {},
   "outputs": [
    {
     "name": "stdout",
     "output_type": "stream",
     "text": [
      "45\n"
     ]
    }
   ],
   "source": [
    "def kadanes(arr):\n",
    "    _sum=float(\"-inf\")\n",
    "    cs=arr[0]\n",
    "    n=len(arr)\n",
    "    for i in range(1,n):\n",
    "        if cs<0:\n",
    "            cs=0\n",
    "        cs=cs+arr[i]\n",
    "        _sum=max(_sum,cs)\n",
    "    return _sum\n",
    "print(kadanes([-3,-2,-19,18,6,-3,15,9,-17,2]))"
   ]
  },
  {
   "cell_type": "code",
   "execution_count": null,
   "id": "6ca7f5f5",
   "metadata": {},
   "outputs": [],
   "source": []
  }
 ],
 "metadata": {
  "kernelspec": {
   "display_name": "Python 3 (ipykernel)",
   "language": "python",
   "name": "python3"
  },
  "language_info": {
   "codemirror_mode": {
    "name": "ipython",
    "version": 3
   },
   "file_extension": ".py",
   "mimetype": "text/x-python",
   "name": "python",
   "nbconvert_exporter": "python",
   "pygments_lexer": "ipython3",
   "version": "3.10.9"
  }
 },
 "nbformat": 4,
 "nbformat_minor": 5
}
